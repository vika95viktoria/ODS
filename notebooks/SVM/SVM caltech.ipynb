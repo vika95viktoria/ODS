{
 "cells": [
  {
   "cell_type": "code",
   "execution_count": 92,
   "metadata": {},
   "outputs": [
    {
     "name": "stdout",
     "output_type": "stream",
     "text": [
      "The autoreload extension is already loaded. To reload it, use:\n",
      "  %reload_ext autoreload\n"
     ]
    }
   ],
   "source": [
    "from pathlib import Path\n",
    "import sys\n",
    "import os\n",
    "import re\n",
    "import warnings\n",
    "import scipy \n",
    "from collections import Counter\n",
    "from datetime import datetime\n",
    "from dateutil import relativedelta\n",
    "\n",
    "import pandas as pd\n",
    "import numpy as np\n",
    "import math\n",
    "from sklearn.svm import SVC\n",
    "from sklearn.metrics import accuracy_score\n",
    "from sklearn.model_selection import cross_val_score\n",
    "from sklearn.model_selection import StratifiedKFold\n",
    "from sklearn.model_selection import GridSearchCV\n",
    "from configparser import ConfigParser\n",
    "from collections import defaultdict\n",
    "import seaborn as sns\n",
    "import matplotlib.pyplot as plt\n",
    "from matplotlib.pyplot import figure\n",
    "warnings.filterwarnings('ignore')\n",
    "pd.set_option('display.max_columns', None)\n",
    "\n",
    "\n",
    "%load_ext autoreload\n",
    "%autoreload "
   ]
  },
  {
   "cell_type": "code",
   "execution_count": 29,
   "metadata": {},
   "outputs": [],
   "source": [
    "def get_dataset(filename):\n",
    "    with open(filename) as f:\n",
    "        x = f.readlines()\n",
    "        splitted = [row[:-1].split() for row in x]\n",
    "        converted = [list(map(lambda y: float(y), x)) for x in splitted]\n",
    "        df  = pd.DataFrame(converted, columns = ['digit', 'intensity', 'symmetry'])\n",
    "        df['digit'] = df['digit'].apply(lambda x: int(x))\n",
    "        return df"
   ]
  },
  {
   "cell_type": "code",
   "execution_count": 30,
   "metadata": {},
   "outputs": [],
   "source": [
    "train_df = get_dataset('hand_train.txt')\n",
    "test_df = get_dataset('hand_test.txt')"
   ]
  },
  {
   "cell_type": "markdown",
   "metadata": {},
   "source": [
    "# Polynomial kernels"
   ]
  },
  {
   "cell_type": "code",
   "execution_count": 44,
   "metadata": {},
   "outputs": [],
   "source": [
    "def get_one_vs_all_dataset(num, df):\n",
    "    target = df['digit'].apply(lambda x: 1 if x == num else -1)\n",
    "    return df[['intensity', 'symmetry']], target"
   ]
  },
  {
   "cell_type": "markdown",
   "metadata": {},
   "source": []
  },
  {
   "cell_type": "code",
   "execution_count": 59,
   "metadata": {},
   "outputs": [],
   "source": [
    "def train_and_get_e_in(train_df, test_df, number, C, degree):\n",
    "    X_train, y_train = get_one_vs_all_dataset(number, train_df)\n",
    "    X_test, y_test = get_one_vs_all_dataset(0, test_df)\n",
    "    svc = SVC(kernel='poly', degree=degree, C=C)\n",
    "    svc.fit(X_train, y_train)\n",
    "    y_train_predict = svc.predict(X_train)\n",
    "    y_test_predict = svc.predict(X_test)\n",
    "    in_sample_error = 1 - accuracy_score(y_train, y_train_predict)\n",
    "    out_sample_error = 1 - accuracy_score(y_test, y_test_predict)\n",
    "    print(svc.n_support_)\n",
    "    return in_sample_error, out_sample_error"
   ]
  },
  {
   "cell_type": "code",
   "execution_count": 56,
   "metadata": {},
   "outputs": [],
   "source": [
    "C = 0.01\n",
    "Q = 2"
   ]
  },
  {
   "cell_type": "code",
   "execution_count": 60,
   "metadata": {},
   "outputs": [],
   "source": [
    "def compare_e_in(digits):\n",
    "    for d in digits:\n",
    "        e_in, e_out = train_and_get_e_in(train_df, test_df, d, C, Q)\n",
    "        print(f\"number {d}: E_in: {e_in}, E_out: {e_out}\")"
   ]
  },
  {
   "cell_type": "code",
   "execution_count": 61,
   "metadata": {},
   "outputs": [
    {
     "name": "stdout",
     "output_type": "stream",
     "text": [
      "[1199 1194]\n",
      "number 0: E_in: 0.16376354409546012, E_out: 0.17887394120577982\n",
      "[732 731]\n",
      "number 2: E_in: 0.10026059525442321, E_out: 0.17887394120577982\n",
      "[660 652]\n",
      "number 4: E_in: 0.08942531888629812, E_out: 0.17887394120577982\n",
      "[665 664]\n",
      "number 6: E_in: 0.09107118365107669, E_out: 0.17887394120577982\n",
      "[550 542]\n",
      "number 8: E_in: 0.074338225209162, E_out: 0.17887394120577982\n"
     ]
    }
   ],
   "source": [
    "compare_e_in([0, 2, 4, 6, 8])"
   ]
  },
  {
   "cell_type": "markdown",
   "metadata": {},
   "source": [
    "Highest E_in for number 0 - [a]"
   ]
  },
  {
   "cell_type": "code",
   "execution_count": 62,
   "metadata": {},
   "outputs": [
    {
     "name": "stdout",
     "output_type": "stream",
     "text": [
      "[774 774]\n",
      "number 1: E_in: 0.02825401179536413, E_out: 0.28948679621325357\n",
      "[671 658]\n",
      "number 3: E_in: 0.09024825126868741, E_out: 0.17887394120577982\n",
      "[562 556]\n",
      "number 5: E_in: 0.07625840076807022, E_out: 0.17887394120577982\n",
      "[650 645]\n",
      "number 7: E_in: 0.08846523110684401, E_out: 0.17887394120577982\n",
      "[645 644]\n",
      "number 9: E_in: 0.08832807570977919, E_out: 0.17887394120577982\n"
     ]
    }
   ],
   "source": [
    "compare_e_in([1, 3, 5, 7, 9])"
   ]
  },
  {
   "cell_type": "markdown",
   "metadata": {},
   "source": [
    "Lowest E_in for number 1 - [a]"
   ]
  },
  {
   "cell_type": "markdown",
   "metadata": {},
   "source": [
    "4 question - 1200 [b] !!! check, correct - c"
   ]
  },
  {
   "cell_type": "code",
   "execution_count": 67,
   "metadata": {},
   "outputs": [],
   "source": [
    "def get_one_vs_one(first_num, second_num, df):\n",
    "    df_to_check = df[(df.digit == first_num) | (df.digit == second_num)]\n",
    "    target = df_to_check['digit'].apply(lambda x: 1 if x == first_num else -1)\n",
    "    return df_to_check[['intensity', 'symmetry']], target"
   ]
  },
  {
   "cell_type": "code",
   "execution_count": 68,
   "metadata": {},
   "outputs": [],
   "source": [
    "X_train, y_train = get_one_vs_one(1, 5, train_df)\n",
    "X_test, y_test = get_one_vs_one(1, 5, test_df)"
   ]
  },
  {
   "cell_type": "code",
   "execution_count": 75,
   "metadata": {},
   "outputs": [],
   "source": [
    "C = [0.0001, 0.001, 0.01, 0.1, 1]\n",
    "Q = 2"
   ]
  },
  {
   "cell_type": "code",
   "execution_count": 72,
   "metadata": {},
   "outputs": [],
   "source": [
    "def train_and_get_e_in(X_train, y_train, X_test, y_test, C, degree):\n",
    "    svc = SVC(kernel='poly', degree=degree, C=C)\n",
    "    svc.fit(X_train, y_train)\n",
    "    y_train_predict = svc.predict(X_train)\n",
    "    y_test_predict = svc.predict(X_test)\n",
    "    in_sample_error = 1 - accuracy_score(y_train, y_train_predict)\n",
    "    out_sample_error = 1 - accuracy_score(y_test, y_test_predict)\n",
    "    return in_sample_error, out_sample_error, svc.n_support_"
   ]
  },
  {
   "cell_type": "code",
   "execution_count": 76,
   "metadata": {},
   "outputs": [
    {
     "name": "stdout",
     "output_type": "stream",
     "text": [
      "C: 0.0001, e_in: 0.3452914798206278, e_out: 0.3514150943396226, num of support_vectors: [556 556]\n",
      "C: 0.001, e_in: 0.026265214606021825, e_out: 0.037735849056603765, num of support_vectors: [284 284]\n",
      "C: 0.01, e_in: 0.008968609865470878, e_out: 0.02358490566037741, num of support_vectors: [88 88]\n",
      "C: 0.1, e_in: 0.005124919923126248, e_out: 0.018867924528301883, num of support_vectors: [37 37]\n",
      "C: 1, e_in: 0.005124919923126248, e_out: 0.021226415094339646, num of support_vectors: [26 26]\n"
     ]
    }
   ],
   "source": [
    "for c in C:\n",
    "    e_in, e_out, num_of_support = train_and_get_e_in(X_train, y_train, X_test, y_test, c, Q)\n",
    "    print(f\"C: {c}, e_in: {e_in}, e_out: {e_out}, num of support_vectors: {num_of_support}\")"
   ]
  },
  {
   "cell_type": "markdown",
   "metadata": {},
   "source": [
    "5 - [a], [d]   what about a?"
   ]
  },
  {
   "cell_type": "code",
   "execution_count": 77,
   "metadata": {},
   "outputs": [
    {
     "name": "stdout",
     "output_type": "stream",
     "text": [
      "C: 0.0001, e_in: 0.06085842408712361, e_out: 0.09198113207547165, num of support_vectors: [216 216]\n",
      "C: 0.001, e_in: 0.034593209481101894, e_out: 0.05660377358490565, num of support_vectors: [131 131]\n",
      "C: 0.01, e_in: 0.029468289557975647, e_out: 0.04245283018867929, num of support_vectors: [111 111]\n",
      "C: 0.1, e_in: 0.03139013452914796, e_out: 0.05896226415094341, num of support_vectors: [107 107]\n",
      "C: 1, e_in: 0.01665598975016014, e_out: 0.028301886792452824, num of support_vectors: [58 59]\n"
     ]
    }
   ],
   "source": [
    "Q = 5\n",
    "for c in C:\n",
    "    e_in, e_out, num_of_support = train_and_get_e_in(X_train, y_train, X_test, y_test, c, Q)\n",
    "    print(f\"C: {c}, e_in: {e_in}, e_out: {e_out}, num of support_vectors: {num_of_support}\")"
   ]
  },
  {
   "cell_type": "markdown",
   "metadata": {},
   "source": [
    "6 - b, c  what about c?"
   ]
  },
  {
   "cell_type": "markdown",
   "metadata": {},
   "source": [
    "# Cross validation"
   ]
  },
  {
   "cell_type": "code",
   "execution_count": 90,
   "metadata": {},
   "outputs": [],
   "source": [
    "param_grid = {'C': [0.0001, 0.001, 0.01, 0.1, 1],\n",
    "              'kernel': ['poly'], 'degree': [2]}\n",
    "c_selection = defaultdict(int)\n",
    "\n",
    "\n",
    "for i in range(100): \n",
    "    kf = StratifiedKFold(n_splits=10)    \n",
    "    grid = GridSearchCV(SVC(), param_grid, cv = kf)\n",
    "    grid.fit(X_train, y_train)\n",
    "    c_selection[grid.best_params_['C']] = c_selection[grid.best_params_['C']] + 1"
   ]
  },
  {
   "cell_type": "code",
   "execution_count": null,
   "metadata": {},
   "outputs": [],
   "source": []
  },
  {
   "cell_type": "code",
   "execution_count": 91,
   "metadata": {},
   "outputs": [
    {
     "data": {
      "text/plain": [
       "defaultdict(int, {1: 100})"
      ]
     },
     "execution_count": 91,
     "metadata": {},
     "output_type": "execute_result"
    }
   ],
   "source": [
    "c_selection"
   ]
  },
  {
   "cell_type": "markdown",
   "metadata": {},
   "source": [
    "7 - [e]   !!! b is correct"
   ]
  },
  {
   "cell_type": "code",
   "execution_count": 93,
   "metadata": {},
   "outputs": [],
   "source": [
    "svc = SVC(kernel='poly', degree=2)\n",
    "scores = []\n",
    "for i in range(100):\n",
    "    scores.append(cross_val_score(svc, X_train, y_train, cv=10))"
   ]
  },
  {
   "cell_type": "code",
   "execution_count": 96,
   "metadata": {},
   "outputs": [
    {
     "data": {
      "text/plain": [
       "0.00512820512820511"
      ]
     },
     "execution_count": 96,
     "metadata": {},
     "output_type": "execute_result"
    }
   ],
   "source": [
    "1 - np.mean(scores)"
   ]
  },
  {
   "cell_type": "markdown",
   "metadata": {},
   "source": [
    "8 - [c]"
   ]
  },
  {
   "cell_type": "markdown",
   "metadata": {},
   "source": [
    "# RBF"
   ]
  },
  {
   "cell_type": "code",
   "execution_count": 97,
   "metadata": {},
   "outputs": [],
   "source": [
    "C = [0.01, 1, 100, 10**4, 10**6]"
   ]
  },
  {
   "cell_type": "code",
   "execution_count": 98,
   "metadata": {},
   "outputs": [],
   "source": [
    "def train_and_get_e_in(X_train, y_train, X_test, y_test, C):\n",
    "    svc = SVC(kernel='rbf',  C=C)\n",
    "    svc.fit(X_train, y_train)\n",
    "    y_train_predict = svc.predict(X_train)\n",
    "    y_test_predict = svc.predict(X_test)\n",
    "    in_sample_error = 1 - accuracy_score(y_train, y_train_predict)\n",
    "    out_sample_error = 1 - accuracy_score(y_test, y_test_predict)\n",
    "    return in_sample_error, out_sample_error"
   ]
  },
  {
   "cell_type": "code",
   "execution_count": 99,
   "metadata": {},
   "outputs": [
    {
     "name": "stdout",
     "output_type": "stream",
     "text": [
      "C: 0.01, e_in: 0.005765534913516945, e_out: 0.018867924528301883\n",
      "C: 1, e_in: 0.004484304932735439, e_out: 0.02358490566037741\n",
      "C: 100, e_in: 0.0032030749519538215, e_out: 0.021226415094339646\n",
      "C: 10000, e_in: 0.002562459961563124, e_out: 0.021226415094339646\n",
      "C: 1000000, e_in: 0.002562459961563124, e_out: 0.02594339622641506\n"
     ]
    }
   ],
   "source": [
    "for c in C:\n",
    "    e_in, e_out = train_and_get_e_in(X_train, y_train, X_test, y_test, c)\n",
    "    print(f\"C: {c}, e_in: {e_in}, e_out: {e_out}\")"
   ]
  },
  {
   "cell_type": "markdown",
   "metadata": {},
   "source": [
    "9 - [e]"
   ]
  },
  {
   "cell_type": "markdown",
   "metadata": {},
   "source": [
    "10 - [a] !!! correct is c"
   ]
  },
  {
   "cell_type": "code",
   "execution_count": null,
   "metadata": {},
   "outputs": [],
   "source": []
  },
  {
   "cell_type": "code",
   "execution_count": null,
   "metadata": {},
   "outputs": [],
   "source": []
  },
  {
   "cell_type": "code",
   "execution_count": null,
   "metadata": {},
   "outputs": [],
   "source": []
  }
 ],
 "metadata": {
  "kernelspec": {
   "display_name": "Python [conda env:wpm_matching_py373]",
   "language": "python",
   "name": "conda-env-wpm_matching_py373-py"
  },
  "language_info": {
   "codemirror_mode": {
    "name": "ipython",
    "version": 3
   },
   "file_extension": ".py",
   "mimetype": "text/x-python",
   "name": "python",
   "nbconvert_exporter": "python",
   "pygments_lexer": "ipython3",
   "version": "3.7.3"
  },
  "toc": {
   "base_numbering": 1,
   "nav_menu": {},
   "number_sections": true,
   "sideBar": true,
   "skip_h1_title": false,
   "title_cell": "Table of Contents",
   "title_sidebar": "Contents",
   "toc_cell": false,
   "toc_position": {},
   "toc_section_display": true,
   "toc_window_display": false
  }
 },
 "nbformat": 4,
 "nbformat_minor": 4
}
