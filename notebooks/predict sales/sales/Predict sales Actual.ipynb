{
 "cells": [
  {
   "cell_type": "markdown",
   "metadata": {
    "toc": true
   },
   "source": [
    "<h1>Table of Contents<span class=\"tocSkip\"></span></h1>\n",
    "<div class=\"toc\"><ul class=\"toc-item\"><li><span><a href=\"#Data-preparation\" data-toc-modified-id=\"Data-preparation-1\"><span class=\"toc-item-num\">1&nbsp;&nbsp;</span>Data preparation</a></span><ul class=\"toc-item\"><li><span><a href=\"#Add-lag-features\" data-toc-modified-id=\"Add-lag-features-1.1\"><span class=\"toc-item-num\">1.1&nbsp;&nbsp;</span>Add lag features</a></span></li></ul></li><li><span><a href=\"#LigthGBM\" data-toc-modified-id=\"LigthGBM-2\"><span class=\"toc-item-num\">2&nbsp;&nbsp;</span>LigthGBM</a></span></li><li><span><a href=\"#Random-forest-from-LigthGBM\" data-toc-modified-id=\"Random-forest-from-LigthGBM-3\"><span class=\"toc-item-num\">3&nbsp;&nbsp;</span>Random forest from LigthGBM</a></span></li><li><span><a href=\"#DART\" data-toc-modified-id=\"DART-4\"><span class=\"toc-item-num\">4&nbsp;&nbsp;</span>DART</a></span></li><li><span><a href=\"#GOSS\" data-toc-modified-id=\"GOSS-5\"><span class=\"toc-item-num\">5&nbsp;&nbsp;</span>GOSS</a></span></li><li><span><a href=\"#Boruta\" data-toc-modified-id=\"Boruta-6\"><span class=\"toc-item-num\">6&nbsp;&nbsp;</span>Boruta</a></span></li><li><span><a href=\"#Predict-for-Kaggle\" data-toc-modified-id=\"Predict-for-Kaggle-7\"><span class=\"toc-item-num\">7&nbsp;&nbsp;</span>Predict for Kaggle</a></span></li></ul></div>"
   ]
  },
  {
   "cell_type": "code",
   "execution_count": 1,
   "metadata": {},
   "outputs": [],
   "source": [
    "import warnings\n",
    "\n",
    "warnings.filterwarnings(\"ignore\")\n",
    "import numpy as np\n",
    "import pandas as pd\n",
    "import seaborn as sns\n",
    "import datetime\n",
    "import calendar\n",
    "import time\n",
    "import matplotlib.pyplot as plt\n",
    "from matplotlib.pyplot import figure\n",
    "from sklearn.linear_model import LinearRegression\n",
    "from sklearn.metrics import roc_auc_score, r2_score, mean_squared_error\n",
    "from sklearn.model_selection import train_test_split, GridSearchCV, cross_val_score\n",
    "from sklearn.preprocessing import StandardScaler, LabelBinarizer, LabelEncoder\n",
    "from xgboost import XGBRegressor\n",
    "from sklearn.model_selection import TimeSeriesSplit\n",
    "from lightgbm import LGBMRegressor\n",
    "\n",
    "%load_ext autoreload\n",
    "%autoreload 2\n",
    "\n",
    "from data_preparation import get_shops, get_item_categories, get_items, prepare_full_dataset, get_duplicate_dict, generate_all_ids_dataset, prepare_zero_dataset, enrich_dataset\n",
    "from time_series_feats import get_avg_metric, get_lag_metric, calculate_and_add_lag"
   ]
  },
  {
   "cell_type": "markdown",
   "metadata": {},
   "source": [
    "## Data preparation"
   ]
  },
  {
   "cell_type": "code",
   "execution_count": 2,
   "metadata": {},
   "outputs": [],
   "source": [
    "train_sales = pd.read_csv('sales_train.csv.zip')\n",
    "shop_id_map = {0: 57, 1: 58, 10: 11}\n",
    "train_sales['shop_id'] = train_sales['shop_id'].apply(lambda x: shop_id_map[x] if x in shop_id_map else x)\n",
    "train_sales['item_cnt_day'] = train_sales['item_cnt_day'].apply(lambda x: x if x > 0 else 0)"
   ]
  },
  {
   "cell_type": "code",
   "execution_count": 3,
   "metadata": {},
   "outputs": [],
   "source": [
    "item_categories = get_item_categories()\n",
    "items = get_items(item_categories)"
   ]
  },
  {
   "cell_type": "code",
   "execution_count": 4,
   "metadata": {},
   "outputs": [],
   "source": [
    "shops = get_shops()"
   ]
  },
  {
   "cell_type": "code",
   "execution_count": 5,
   "metadata": {},
   "outputs": [
    {
     "data": {
      "text/html": [
       "<div>\n",
       "<style scoped>\n",
       "    .dataframe tbody tr th:only-of-type {\n",
       "        vertical-align: middle;\n",
       "    }\n",
       "\n",
       "    .dataframe tbody tr th {\n",
       "        vertical-align: top;\n",
       "    }\n",
       "\n",
       "    .dataframe thead th {\n",
       "        text-align: right;\n",
       "    }\n",
       "</style>\n",
       "<table border=\"1\" class=\"dataframe\">\n",
       "  <thead>\n",
       "    <tr style=\"text-align: right;\">\n",
       "      <th></th>\n",
       "      <th>date</th>\n",
       "      <th>date_block_num</th>\n",
       "      <th>shop_id</th>\n",
       "      <th>item_id</th>\n",
       "      <th>item_price</th>\n",
       "      <th>item_cnt_day</th>\n",
       "    </tr>\n",
       "  </thead>\n",
       "  <tbody>\n",
       "    <tr>\n",
       "      <th>0</th>\n",
       "      <td>02.01.2013</td>\n",
       "      <td>0</td>\n",
       "      <td>59</td>\n",
       "      <td>22154</td>\n",
       "      <td>999.00</td>\n",
       "      <td>1.0</td>\n",
       "    </tr>\n",
       "    <tr>\n",
       "      <th>1</th>\n",
       "      <td>03.01.2013</td>\n",
       "      <td>0</td>\n",
       "      <td>25</td>\n",
       "      <td>2552</td>\n",
       "      <td>899.00</td>\n",
       "      <td>1.0</td>\n",
       "    </tr>\n",
       "    <tr>\n",
       "      <th>2</th>\n",
       "      <td>05.01.2013</td>\n",
       "      <td>0</td>\n",
       "      <td>25</td>\n",
       "      <td>2552</td>\n",
       "      <td>899.00</td>\n",
       "      <td>0.0</td>\n",
       "    </tr>\n",
       "    <tr>\n",
       "      <th>3</th>\n",
       "      <td>06.01.2013</td>\n",
       "      <td>0</td>\n",
       "      <td>25</td>\n",
       "      <td>2554</td>\n",
       "      <td>1709.05</td>\n",
       "      <td>1.0</td>\n",
       "    </tr>\n",
       "    <tr>\n",
       "      <th>4</th>\n",
       "      <td>15.01.2013</td>\n",
       "      <td>0</td>\n",
       "      <td>25</td>\n",
       "      <td>2555</td>\n",
       "      <td>1099.00</td>\n",
       "      <td>1.0</td>\n",
       "    </tr>\n",
       "  </tbody>\n",
       "</table>\n",
       "</div>"
      ],
      "text/plain": [
       "         date  date_block_num  shop_id  item_id  item_price  item_cnt_day\n",
       "0  02.01.2013               0       59    22154      999.00           1.0\n",
       "1  03.01.2013               0       25     2552      899.00           1.0\n",
       "2  05.01.2013               0       25     2552      899.00           0.0\n",
       "3  06.01.2013               0       25     2554     1709.05           1.0\n",
       "4  15.01.2013               0       25     2555     1099.00           1.0"
      ]
     },
     "execution_count": 5,
     "metadata": {},
     "output_type": "execute_result"
    }
   ],
   "source": [
    "train_sales.head(5)"
   ]
  },
  {
   "cell_type": "code",
   "execution_count": 6,
   "metadata": {},
   "outputs": [
    {
     "data": {
      "text/plain": [
       "(22170, 7)"
      ]
     },
     "execution_count": 6,
     "metadata": {},
     "output_type": "execute_result"
    }
   ],
   "source": [
    "items.shape"
   ]
  },
  {
   "cell_type": "code",
   "execution_count": 6,
   "metadata": {},
   "outputs": [],
   "source": [
    "test_df = pd.read_csv('test.csv.zip')"
   ]
  },
  {
   "cell_type": "code",
   "execution_count": 7,
   "metadata": {},
   "outputs": [],
   "source": [
    "test_df['shop_id'] = test_df['shop_id'].apply(lambda x: shop_id_map[x] if x in shop_id_map else x)"
   ]
  },
  {
   "cell_type": "code",
   "execution_count": 8,
   "metadata": {},
   "outputs": [],
   "source": [
    "test_df['year'] = 2015\n",
    "test_df['month'] = 11\n",
    "test_df['date_block_num'] = 34\n",
    "test_df['item_price'] = float('nan')\n",
    "test_df['item_cnt_month'] = 0"
   ]
  },
  {
   "cell_type": "code",
   "execution_count": 9,
   "metadata": {},
   "outputs": [],
   "source": [
    "dup_item_dict = get_duplicate_dict(items, test_df)\n",
    "train_sales['item_id'] = train_sales['item_id'].apply(lambda x: dup_item_dict[x] if x in dup_item_dict else x)"
   ]
  },
  {
   "cell_type": "code",
   "execution_count": 10,
   "metadata": {},
   "outputs": [],
   "source": [
    "item_ids = items[~items.item_id.isin(dup_item_dict.keys())]['item_id'].unique()\n",
    "shop_ids = shops[~shops.shop_id.isin([0, 1, 10])]['shop_id'].unique()"
   ]
  },
  {
   "cell_type": "code",
   "execution_count": 11,
   "metadata": {},
   "outputs": [],
   "source": [
    "train_sales['date'] = train_sales['date'].apply(lambda x: datetime.datetime.strptime(x, '%d.%m.%Y'))\n",
    "train_sales['month'] = train_sales['date'].apply(lambda x: x.month)\n",
    "train_sales['year'] = train_sales['date'].apply(lambda x: x.year)"
   ]
  },
  {
   "cell_type": "code",
   "execution_count": 12,
   "metadata": {},
   "outputs": [],
   "source": [
    "train_sales = train_sales[train_sales.item_price<100000]\n",
    "train_sales = train_sales[train_sales.item_cnt_day<1001]"
   ]
  },
  {
   "cell_type": "code",
   "execution_count": 13,
   "metadata": {},
   "outputs": [],
   "source": [
    "median = train_sales[(train_sales.shop_id==32)&(train_sales.item_id==2973)&(train_sales.date_block_num==4)&(train_sales.item_price>0)].item_price.median()\n",
    "train_sales.loc[train_sales.item_price<0, 'item_price'] = median"
   ]
  },
  {
   "cell_type": "code",
   "execution_count": 14,
   "metadata": {},
   "outputs": [],
   "source": [
    "baseline_train = train_sales[train_sales.item_price > 0].groupby( ['date_block_num', 'shop_id',  'item_id', 'month', 'year']).agg(\n",
    "    {'item_cnt_day': 'sum', 'item_price':'mean'}).reset_index()\n",
    "baseline_train = baseline_train.rename(columns={'item_cnt_day':'item_cnt_month'})"
   ]
  },
  {
   "cell_type": "code",
   "execution_count": 15,
   "metadata": {},
   "outputs": [
    {
     "data": {
      "text/html": [
       "<div>\n",
       "<style scoped>\n",
       "    .dataframe tbody tr th:only-of-type {\n",
       "        vertical-align: middle;\n",
       "    }\n",
       "\n",
       "    .dataframe tbody tr th {\n",
       "        vertical-align: top;\n",
       "    }\n",
       "\n",
       "    .dataframe thead th {\n",
       "        text-align: right;\n",
       "    }\n",
       "</style>\n",
       "<table border=\"1\" class=\"dataframe\">\n",
       "  <thead>\n",
       "    <tr style=\"text-align: right;\">\n",
       "      <th></th>\n",
       "      <th>date_block_num</th>\n",
       "      <th>shop_id</th>\n",
       "      <th>item_id</th>\n",
       "      <th>month</th>\n",
       "      <th>year</th>\n",
       "      <th>item_cnt_month</th>\n",
       "      <th>item_price</th>\n",
       "    </tr>\n",
       "  </thead>\n",
       "  <tbody>\n",
       "    <tr>\n",
       "      <th>0</th>\n",
       "      <td>0</td>\n",
       "      <td>2</td>\n",
       "      <td>27</td>\n",
       "      <td>1</td>\n",
       "      <td>2013</td>\n",
       "      <td>1.0</td>\n",
       "      <td>2499.0</td>\n",
       "    </tr>\n",
       "    <tr>\n",
       "      <th>1</th>\n",
       "      <td>0</td>\n",
       "      <td>2</td>\n",
       "      <td>33</td>\n",
       "      <td>1</td>\n",
       "      <td>2013</td>\n",
       "      <td>1.0</td>\n",
       "      <td>499.0</td>\n",
       "    </tr>\n",
       "    <tr>\n",
       "      <th>2</th>\n",
       "      <td>0</td>\n",
       "      <td>2</td>\n",
       "      <td>317</td>\n",
       "      <td>1</td>\n",
       "      <td>2013</td>\n",
       "      <td>1.0</td>\n",
       "      <td>299.0</td>\n",
       "    </tr>\n",
       "    <tr>\n",
       "      <th>3</th>\n",
       "      <td>0</td>\n",
       "      <td>2</td>\n",
       "      <td>438</td>\n",
       "      <td>1</td>\n",
       "      <td>2013</td>\n",
       "      <td>1.0</td>\n",
       "      <td>299.0</td>\n",
       "    </tr>\n",
       "    <tr>\n",
       "      <th>4</th>\n",
       "      <td>0</td>\n",
       "      <td>2</td>\n",
       "      <td>471</td>\n",
       "      <td>1</td>\n",
       "      <td>2013</td>\n",
       "      <td>2.0</td>\n",
       "      <td>399.0</td>\n",
       "    </tr>\n",
       "    <tr>\n",
       "      <th>...</th>\n",
       "      <td>...</td>\n",
       "      <td>...</td>\n",
       "      <td>...</td>\n",
       "      <td>...</td>\n",
       "      <td>...</td>\n",
       "      <td>...</td>\n",
       "      <td>...</td>\n",
       "    </tr>\n",
       "    <tr>\n",
       "      <th>1608805</th>\n",
       "      <td>33</td>\n",
       "      <td>59</td>\n",
       "      <td>22087</td>\n",
       "      <td>10</td>\n",
       "      <td>2015</td>\n",
       "      <td>6.0</td>\n",
       "      <td>119.0</td>\n",
       "    </tr>\n",
       "    <tr>\n",
       "      <th>1608806</th>\n",
       "      <td>33</td>\n",
       "      <td>59</td>\n",
       "      <td>22088</td>\n",
       "      <td>10</td>\n",
       "      <td>2015</td>\n",
       "      <td>2.0</td>\n",
       "      <td>119.0</td>\n",
       "    </tr>\n",
       "    <tr>\n",
       "      <th>1608807</th>\n",
       "      <td>33</td>\n",
       "      <td>59</td>\n",
       "      <td>22091</td>\n",
       "      <td>10</td>\n",
       "      <td>2015</td>\n",
       "      <td>1.0</td>\n",
       "      <td>179.0</td>\n",
       "    </tr>\n",
       "    <tr>\n",
       "      <th>1608808</th>\n",
       "      <td>33</td>\n",
       "      <td>59</td>\n",
       "      <td>22100</td>\n",
       "      <td>10</td>\n",
       "      <td>2015</td>\n",
       "      <td>1.0</td>\n",
       "      <td>629.0</td>\n",
       "    </tr>\n",
       "    <tr>\n",
       "      <th>1608809</th>\n",
       "      <td>33</td>\n",
       "      <td>59</td>\n",
       "      <td>22102</td>\n",
       "      <td>10</td>\n",
       "      <td>2015</td>\n",
       "      <td>1.0</td>\n",
       "      <td>1250.0</td>\n",
       "    </tr>\n",
       "  </tbody>\n",
       "</table>\n",
       "<p>1608810 rows × 7 columns</p>\n",
       "</div>"
      ],
      "text/plain": [
       "         date_block_num  shop_id  item_id  month  year  item_cnt_month  \\\n",
       "0                     0        2       27      1  2013             1.0   \n",
       "1                     0        2       33      1  2013             1.0   \n",
       "2                     0        2      317      1  2013             1.0   \n",
       "3                     0        2      438      1  2013             1.0   \n",
       "4                     0        2      471      1  2013             2.0   \n",
       "...                 ...      ...      ...    ...   ...             ...   \n",
       "1608805              33       59    22087     10  2015             6.0   \n",
       "1608806              33       59    22088     10  2015             2.0   \n",
       "1608807              33       59    22091     10  2015             1.0   \n",
       "1608808              33       59    22100     10  2015             1.0   \n",
       "1608809              33       59    22102     10  2015             1.0   \n",
       "\n",
       "         item_price  \n",
       "0            2499.0  \n",
       "1             499.0  \n",
       "2             299.0  \n",
       "3             299.0  \n",
       "4             399.0  \n",
       "...             ...  \n",
       "1608805       119.0  \n",
       "1608806       119.0  \n",
       "1608807       179.0  \n",
       "1608808       629.0  \n",
       "1608809      1250.0  \n",
       "\n",
       "[1608810 rows x 7 columns]"
      ]
     },
     "execution_count": 15,
     "metadata": {},
     "output_type": "execute_result"
    }
   ],
   "source": [
    "baseline_train"
   ]
  },
  {
   "cell_type": "code",
   "execution_count": 16,
   "metadata": {},
   "outputs": [
    {
     "data": {
      "text/html": [
       "<div>\n",
       "<style scoped>\n",
       "    .dataframe tbody tr th:only-of-type {\n",
       "        vertical-align: middle;\n",
       "    }\n",
       "\n",
       "    .dataframe tbody tr th {\n",
       "        vertical-align: top;\n",
       "    }\n",
       "\n",
       "    .dataframe thead th {\n",
       "        text-align: right;\n",
       "    }\n",
       "</style>\n",
       "<table border=\"1\" class=\"dataframe\">\n",
       "  <thead>\n",
       "    <tr style=\"text-align: right;\">\n",
       "      <th></th>\n",
       "      <th>ID</th>\n",
       "      <th>shop_id</th>\n",
       "      <th>item_id</th>\n",
       "      <th>year</th>\n",
       "      <th>month</th>\n",
       "      <th>date_block_num</th>\n",
       "      <th>item_price</th>\n",
       "      <th>item_cnt_month</th>\n",
       "    </tr>\n",
       "  </thead>\n",
       "  <tbody>\n",
       "    <tr>\n",
       "      <th>0</th>\n",
       "      <td>0</td>\n",
       "      <td>5</td>\n",
       "      <td>5037</td>\n",
       "      <td>2015</td>\n",
       "      <td>11</td>\n",
       "      <td>34</td>\n",
       "      <td>NaN</td>\n",
       "      <td>0</td>\n",
       "    </tr>\n",
       "    <tr>\n",
       "      <th>1</th>\n",
       "      <td>1</td>\n",
       "      <td>5</td>\n",
       "      <td>5320</td>\n",
       "      <td>2015</td>\n",
       "      <td>11</td>\n",
       "      <td>34</td>\n",
       "      <td>NaN</td>\n",
       "      <td>0</td>\n",
       "    </tr>\n",
       "    <tr>\n",
       "      <th>2</th>\n",
       "      <td>2</td>\n",
       "      <td>5</td>\n",
       "      <td>5233</td>\n",
       "      <td>2015</td>\n",
       "      <td>11</td>\n",
       "      <td>34</td>\n",
       "      <td>NaN</td>\n",
       "      <td>0</td>\n",
       "    </tr>\n",
       "    <tr>\n",
       "      <th>3</th>\n",
       "      <td>3</td>\n",
       "      <td>5</td>\n",
       "      <td>5232</td>\n",
       "      <td>2015</td>\n",
       "      <td>11</td>\n",
       "      <td>34</td>\n",
       "      <td>NaN</td>\n",
       "      <td>0</td>\n",
       "    </tr>\n",
       "    <tr>\n",
       "      <th>4</th>\n",
       "      <td>4</td>\n",
       "      <td>5</td>\n",
       "      <td>5268</td>\n",
       "      <td>2015</td>\n",
       "      <td>11</td>\n",
       "      <td>34</td>\n",
       "      <td>NaN</td>\n",
       "      <td>0</td>\n",
       "    </tr>\n",
       "    <tr>\n",
       "      <th>5</th>\n",
       "      <td>5</td>\n",
       "      <td>5</td>\n",
       "      <td>5039</td>\n",
       "      <td>2015</td>\n",
       "      <td>11</td>\n",
       "      <td>34</td>\n",
       "      <td>NaN</td>\n",
       "      <td>0</td>\n",
       "    </tr>\n",
       "    <tr>\n",
       "      <th>6</th>\n",
       "      <td>6</td>\n",
       "      <td>5</td>\n",
       "      <td>5041</td>\n",
       "      <td>2015</td>\n",
       "      <td>11</td>\n",
       "      <td>34</td>\n",
       "      <td>NaN</td>\n",
       "      <td>0</td>\n",
       "    </tr>\n",
       "    <tr>\n",
       "      <th>7</th>\n",
       "      <td>7</td>\n",
       "      <td>5</td>\n",
       "      <td>5046</td>\n",
       "      <td>2015</td>\n",
       "      <td>11</td>\n",
       "      <td>34</td>\n",
       "      <td>NaN</td>\n",
       "      <td>0</td>\n",
       "    </tr>\n",
       "    <tr>\n",
       "      <th>8</th>\n",
       "      <td>8</td>\n",
       "      <td>5</td>\n",
       "      <td>5319</td>\n",
       "      <td>2015</td>\n",
       "      <td>11</td>\n",
       "      <td>34</td>\n",
       "      <td>NaN</td>\n",
       "      <td>0</td>\n",
       "    </tr>\n",
       "    <tr>\n",
       "      <th>9</th>\n",
       "      <td>9</td>\n",
       "      <td>5</td>\n",
       "      <td>5003</td>\n",
       "      <td>2015</td>\n",
       "      <td>11</td>\n",
       "      <td>34</td>\n",
       "      <td>NaN</td>\n",
       "      <td>0</td>\n",
       "    </tr>\n",
       "  </tbody>\n",
       "</table>\n",
       "</div>"
      ],
      "text/plain": [
       "   ID  shop_id  item_id  year  month  date_block_num  item_price  \\\n",
       "0   0        5     5037  2015     11              34         NaN   \n",
       "1   1        5     5320  2015     11              34         NaN   \n",
       "2   2        5     5233  2015     11              34         NaN   \n",
       "3   3        5     5232  2015     11              34         NaN   \n",
       "4   4        5     5268  2015     11              34         NaN   \n",
       "5   5        5     5039  2015     11              34         NaN   \n",
       "6   6        5     5041  2015     11              34         NaN   \n",
       "7   7        5     5046  2015     11              34         NaN   \n",
       "8   8        5     5319  2015     11              34         NaN   \n",
       "9   9        5     5003  2015     11              34         NaN   \n",
       "\n",
       "   item_cnt_month  \n",
       "0               0  \n",
       "1               0  \n",
       "2               0  \n",
       "3               0  \n",
       "4               0  \n",
       "5               0  \n",
       "6               0  \n",
       "7               0  \n",
       "8               0  \n",
       "9               0  "
      ]
     },
     "execution_count": 16,
     "metadata": {},
     "output_type": "execute_result"
    }
   ],
   "source": [
    "test_df.head(10)"
   ]
  },
  {
   "cell_type": "code",
   "execution_count": 17,
   "metadata": {},
   "outputs": [
    {
     "name": "stdout",
     "output_type": "stream",
     "text": [
      "Wall time: 57.5 s\n"
     ]
    }
   ],
   "source": [
    "%%time\n",
    "all_ids_dataset = generate_all_ids_dataset(item_ids, shop_ids)"
   ]
  },
  {
   "cell_type": "code",
   "execution_count": 18,
   "metadata": {},
   "outputs": [],
   "source": [
    "num_to_month = baseline_train[['date_block_num', 'month', 'year']].drop_duplicates()\n",
    "all_ids_dataset = all_ids_dataset.merge(num_to_month, how = 'left', on=['date_block_num'])"
   ]
  },
  {
   "cell_type": "code",
   "execution_count": null,
   "metadata": {},
   "outputs": [],
   "source": []
  },
  {
   "cell_type": "code",
   "execution_count": 19,
   "metadata": {},
   "outputs": [
    {
     "name": "stdout",
     "output_type": "stream",
     "text": [
      "Wall time: 31.4 s\n"
     ]
    }
   ],
   "source": [
    "%%time\n",
    "train_with_zeroes = all_ids_dataset.merge(baseline_train, \n",
    "                 how='left', on=[ 'shop_id', 'item_id', 'date_block_num', 'month', 'year' ])"
   ]
  },
  {
   "cell_type": "code",
   "execution_count": 21,
   "metadata": {},
   "outputs": [],
   "source": [
    "del all_ids_dataset\n",
    "del baseline_train"
   ]
  },
  {
   "cell_type": "code",
   "execution_count": 20,
   "metadata": {},
   "outputs": [
    {
     "data": {
      "text/html": [
       "<div>\n",
       "<style scoped>\n",
       "    .dataframe tbody tr th:only-of-type {\n",
       "        vertical-align: middle;\n",
       "    }\n",
       "\n",
       "    .dataframe tbody tr th {\n",
       "        vertical-align: top;\n",
       "    }\n",
       "\n",
       "    .dataframe thead th {\n",
       "        text-align: right;\n",
       "    }\n",
       "</style>\n",
       "<table border=\"1\" class=\"dataframe\">\n",
       "  <thead>\n",
       "    <tr style=\"text-align: right;\">\n",
       "      <th></th>\n",
       "      <th>date_block_num</th>\n",
       "      <th>shop_id</th>\n",
       "      <th>item_id</th>\n",
       "      <th>month</th>\n",
       "      <th>year</th>\n",
       "      <th>item_cnt_month</th>\n",
       "      <th>item_price</th>\n",
       "    </tr>\n",
       "  </thead>\n",
       "  <tbody>\n",
       "    <tr>\n",
       "      <th>0</th>\n",
       "      <td>0</td>\n",
       "      <td>2</td>\n",
       "      <td>0</td>\n",
       "      <td>1</td>\n",
       "      <td>2013</td>\n",
       "      <td>NaN</td>\n",
       "      <td>NaN</td>\n",
       "    </tr>\n",
       "    <tr>\n",
       "      <th>1</th>\n",
       "      <td>0</td>\n",
       "      <td>2</td>\n",
       "      <td>1</td>\n",
       "      <td>1</td>\n",
       "      <td>2013</td>\n",
       "      <td>NaN</td>\n",
       "      <td>NaN</td>\n",
       "    </tr>\n",
       "    <tr>\n",
       "      <th>2</th>\n",
       "      <td>0</td>\n",
       "      <td>2</td>\n",
       "      <td>2</td>\n",
       "      <td>1</td>\n",
       "      <td>2013</td>\n",
       "      <td>NaN</td>\n",
       "      <td>NaN</td>\n",
       "    </tr>\n",
       "    <tr>\n",
       "      <th>3</th>\n",
       "      <td>0</td>\n",
       "      <td>2</td>\n",
       "      <td>3</td>\n",
       "      <td>1</td>\n",
       "      <td>2013</td>\n",
       "      <td>NaN</td>\n",
       "      <td>NaN</td>\n",
       "    </tr>\n",
       "    <tr>\n",
       "      <th>4</th>\n",
       "      <td>0</td>\n",
       "      <td>2</td>\n",
       "      <td>4</td>\n",
       "      <td>1</td>\n",
       "      <td>2013</td>\n",
       "      <td>NaN</td>\n",
       "      <td>NaN</td>\n",
       "    </tr>\n",
       "    <tr>\n",
       "      <th>5</th>\n",
       "      <td>0</td>\n",
       "      <td>2</td>\n",
       "      <td>5</td>\n",
       "      <td>1</td>\n",
       "      <td>2013</td>\n",
       "      <td>NaN</td>\n",
       "      <td>NaN</td>\n",
       "    </tr>\n",
       "    <tr>\n",
       "      <th>6</th>\n",
       "      <td>0</td>\n",
       "      <td>2</td>\n",
       "      <td>6</td>\n",
       "      <td>1</td>\n",
       "      <td>2013</td>\n",
       "      <td>NaN</td>\n",
       "      <td>NaN</td>\n",
       "    </tr>\n",
       "    <tr>\n",
       "      <th>7</th>\n",
       "      <td>0</td>\n",
       "      <td>2</td>\n",
       "      <td>7</td>\n",
       "      <td>1</td>\n",
       "      <td>2013</td>\n",
       "      <td>NaN</td>\n",
       "      <td>NaN</td>\n",
       "    </tr>\n",
       "    <tr>\n",
       "      <th>8</th>\n",
       "      <td>0</td>\n",
       "      <td>2</td>\n",
       "      <td>8</td>\n",
       "      <td>1</td>\n",
       "      <td>2013</td>\n",
       "      <td>NaN</td>\n",
       "      <td>NaN</td>\n",
       "    </tr>\n",
       "    <tr>\n",
       "      <th>9</th>\n",
       "      <td>0</td>\n",
       "      <td>2</td>\n",
       "      <td>9</td>\n",
       "      <td>1</td>\n",
       "      <td>2013</td>\n",
       "      <td>NaN</td>\n",
       "      <td>NaN</td>\n",
       "    </tr>\n",
       "  </tbody>\n",
       "</table>\n",
       "</div>"
      ],
      "text/plain": [
       "   date_block_num  shop_id  item_id  month  year  item_cnt_month  item_price\n",
       "0               0        2        0      1  2013             NaN         NaN\n",
       "1               0        2        1      1  2013             NaN         NaN\n",
       "2               0        2        2      1  2013             NaN         NaN\n",
       "3               0        2        3      1  2013             NaN         NaN\n",
       "4               0        2        4      1  2013             NaN         NaN\n",
       "5               0        2        5      1  2013             NaN         NaN\n",
       "6               0        2        6      1  2013             NaN         NaN\n",
       "7               0        2        7      1  2013             NaN         NaN\n",
       "8               0        2        8      1  2013             NaN         NaN\n",
       "9               0        2        9      1  2013             NaN         NaN"
      ]
     },
     "execution_count": 20,
     "metadata": {},
     "output_type": "execute_result"
    }
   ],
   "source": [
    "train_with_zeroes.head(10)"
   ]
  },
  {
   "cell_type": "code",
   "execution_count": 24,
   "metadata": {},
   "outputs": [
    {
     "name": "stdout",
     "output_type": "stream",
     "text": [
      "<class 'pandas.core.frame.DataFrame'>\n",
      "Int64Index: 42851118 entries, 0 to 42851117\n",
      "Data columns (total 7 columns):\n",
      " #   Column          Non-Null Count     Dtype  \n",
      "---  ------          --------------     -----  \n",
      " 0   date_block_num  42851118 non-null  int8   \n",
      " 1   shop_id         42851118 non-null  int8   \n",
      " 2   item_id         42851118 non-null  int16  \n",
      " 3   month           42851118 non-null  int64  \n",
      " 4   year            42851118 non-null  int64  \n",
      " 5   item_cnt_month  1608810 non-null   float64\n",
      " 6   item_price      42851118 non-null  float64\n",
      "dtypes: float64(2), int16(1), int64(2), int8(2)\n",
      "memory usage: 1.8 GB\n"
     ]
    }
   ],
   "source": [
    "train_with_zeroes.info(verbose=True, show_counts=True)"
   ]
  },
  {
   "cell_type": "code",
   "execution_count": 23,
   "metadata": {},
   "outputs": [],
   "source": [
    "train_with_zeroes.sort_values(by='date_block_num', inplace=True)\n",
    "train_with_zeroes['item_price'] = train_with_zeroes.groupby(['item_id', 'shop_id'])['item_price'].ffill().bfill()\n",
    "train_with_zeroes['item_price'] = train_with_zeroes.groupby(['item_id'])['item_price'].ffill().bfill()"
   ]
  },
  {
   "cell_type": "code",
   "execution_count": 25,
   "metadata": {},
   "outputs": [],
   "source": [
    "train_with_zeroes.fillna(0, inplace=True)"
   ]
  },
  {
   "cell_type": "code",
   "execution_count": 26,
   "metadata": {},
   "outputs": [],
   "source": [
    "train_with_zeroes['year'] = train_with_zeroes['year'].astype(np.int16)\n",
    "train_with_zeroes['month'] = train_with_zeroes['month'].astype(np.int8)\n",
    "train_with_zeroes['date_block_num'] = train_with_zeroes['date_block_num'].astype(np.int8)\n",
    "train_with_zeroes['item_cnt_month'] = train_with_zeroes['item_cnt_month'].astype(np.int16)"
   ]
  },
  {
   "cell_type": "code",
   "execution_count": 27,
   "metadata": {},
   "outputs": [],
   "source": [
    "test_df['year'] = test_df['year'].astype(np.int16)\n",
    "test_df['month'] = test_df['month'].astype(np.int8)\n",
    "test_df['date_block_num'] = test_df['date_block_num'].astype(np.int8)\n",
    "test_df['item_cnt_month'] = test_df['item_cnt_month'].astype(np.int16)"
   ]
  },
  {
   "cell_type": "code",
   "execution_count": 28,
   "metadata": {},
   "outputs": [
    {
     "data": {
      "text/html": [
       "<div>\n",
       "<style scoped>\n",
       "    .dataframe tbody tr th:only-of-type {\n",
       "        vertical-align: middle;\n",
       "    }\n",
       "\n",
       "    .dataframe tbody tr th {\n",
       "        vertical-align: top;\n",
       "    }\n",
       "\n",
       "    .dataframe thead th {\n",
       "        text-align: right;\n",
       "    }\n",
       "</style>\n",
       "<table border=\"1\" class=\"dataframe\">\n",
       "  <thead>\n",
       "    <tr style=\"text-align: right;\">\n",
       "      <th></th>\n",
       "      <th>ID</th>\n",
       "      <th>shop_id</th>\n",
       "      <th>item_id</th>\n",
       "      <th>year</th>\n",
       "      <th>month</th>\n",
       "      <th>date_block_num</th>\n",
       "      <th>item_price</th>\n",
       "      <th>item_cnt_month</th>\n",
       "    </tr>\n",
       "  </thead>\n",
       "  <tbody>\n",
       "    <tr>\n",
       "      <th>0</th>\n",
       "      <td>0</td>\n",
       "      <td>5</td>\n",
       "      <td>5037</td>\n",
       "      <td>2015</td>\n",
       "      <td>11</td>\n",
       "      <td>34</td>\n",
       "      <td>NaN</td>\n",
       "      <td>0</td>\n",
       "    </tr>\n",
       "    <tr>\n",
       "      <th>1</th>\n",
       "      <td>1</td>\n",
       "      <td>5</td>\n",
       "      <td>5320</td>\n",
       "      <td>2015</td>\n",
       "      <td>11</td>\n",
       "      <td>34</td>\n",
       "      <td>NaN</td>\n",
       "      <td>0</td>\n",
       "    </tr>\n",
       "    <tr>\n",
       "      <th>2</th>\n",
       "      <td>2</td>\n",
       "      <td>5</td>\n",
       "      <td>5233</td>\n",
       "      <td>2015</td>\n",
       "      <td>11</td>\n",
       "      <td>34</td>\n",
       "      <td>NaN</td>\n",
       "      <td>0</td>\n",
       "    </tr>\n",
       "    <tr>\n",
       "      <th>3</th>\n",
       "      <td>3</td>\n",
       "      <td>5</td>\n",
       "      <td>5232</td>\n",
       "      <td>2015</td>\n",
       "      <td>11</td>\n",
       "      <td>34</td>\n",
       "      <td>NaN</td>\n",
       "      <td>0</td>\n",
       "    </tr>\n",
       "    <tr>\n",
       "      <th>4</th>\n",
       "      <td>4</td>\n",
       "      <td>5</td>\n",
       "      <td>5268</td>\n",
       "      <td>2015</td>\n",
       "      <td>11</td>\n",
       "      <td>34</td>\n",
       "      <td>NaN</td>\n",
       "      <td>0</td>\n",
       "    </tr>\n",
       "    <tr>\n",
       "      <th>5</th>\n",
       "      <td>5</td>\n",
       "      <td>5</td>\n",
       "      <td>5039</td>\n",
       "      <td>2015</td>\n",
       "      <td>11</td>\n",
       "      <td>34</td>\n",
       "      <td>NaN</td>\n",
       "      <td>0</td>\n",
       "    </tr>\n",
       "    <tr>\n",
       "      <th>6</th>\n",
       "      <td>6</td>\n",
       "      <td>5</td>\n",
       "      <td>5041</td>\n",
       "      <td>2015</td>\n",
       "      <td>11</td>\n",
       "      <td>34</td>\n",
       "      <td>NaN</td>\n",
       "      <td>0</td>\n",
       "    </tr>\n",
       "    <tr>\n",
       "      <th>7</th>\n",
       "      <td>7</td>\n",
       "      <td>5</td>\n",
       "      <td>5046</td>\n",
       "      <td>2015</td>\n",
       "      <td>11</td>\n",
       "      <td>34</td>\n",
       "      <td>NaN</td>\n",
       "      <td>0</td>\n",
       "    </tr>\n",
       "    <tr>\n",
       "      <th>8</th>\n",
       "      <td>8</td>\n",
       "      <td>5</td>\n",
       "      <td>5319</td>\n",
       "      <td>2015</td>\n",
       "      <td>11</td>\n",
       "      <td>34</td>\n",
       "      <td>NaN</td>\n",
       "      <td>0</td>\n",
       "    </tr>\n",
       "    <tr>\n",
       "      <th>9</th>\n",
       "      <td>9</td>\n",
       "      <td>5</td>\n",
       "      <td>5003</td>\n",
       "      <td>2015</td>\n",
       "      <td>11</td>\n",
       "      <td>34</td>\n",
       "      <td>NaN</td>\n",
       "      <td>0</td>\n",
       "    </tr>\n",
       "  </tbody>\n",
       "</table>\n",
       "</div>"
      ],
      "text/plain": [
       "   ID  shop_id  item_id  year  month  date_block_num  item_price  \\\n",
       "0   0        5     5037  2015     11              34         NaN   \n",
       "1   1        5     5320  2015     11              34         NaN   \n",
       "2   2        5     5233  2015     11              34         NaN   \n",
       "3   3        5     5232  2015     11              34         NaN   \n",
       "4   4        5     5268  2015     11              34         NaN   \n",
       "5   5        5     5039  2015     11              34         NaN   \n",
       "6   6        5     5041  2015     11              34         NaN   \n",
       "7   7        5     5046  2015     11              34         NaN   \n",
       "8   8        5     5319  2015     11              34         NaN   \n",
       "9   9        5     5003  2015     11              34         NaN   \n",
       "\n",
       "   item_cnt_month  \n",
       "0               0  \n",
       "1               0  \n",
       "2               0  \n",
       "3               0  \n",
       "4               0  \n",
       "5               0  \n",
       "6               0  \n",
       "7               0  \n",
       "8               0  \n",
       "9               0  "
      ]
     },
     "execution_count": 28,
     "metadata": {},
     "output_type": "execute_result"
    }
   ],
   "source": [
    "test_df.head(10)"
   ]
  },
  {
   "cell_type": "code",
   "execution_count": 29,
   "metadata": {},
   "outputs": [
    {
     "data": {
      "text/html": [
       "<div>\n",
       "<style scoped>\n",
       "    .dataframe tbody tr th:only-of-type {\n",
       "        vertical-align: middle;\n",
       "    }\n",
       "\n",
       "    .dataframe tbody tr th {\n",
       "        vertical-align: top;\n",
       "    }\n",
       "\n",
       "    .dataframe thead th {\n",
       "        text-align: right;\n",
       "    }\n",
       "</style>\n",
       "<table border=\"1\" class=\"dataframe\">\n",
       "  <thead>\n",
       "    <tr style=\"text-align: right;\">\n",
       "      <th></th>\n",
       "      <th>date_block_num</th>\n",
       "      <th>shop_id</th>\n",
       "      <th>item_id</th>\n",
       "      <th>month</th>\n",
       "      <th>year</th>\n",
       "      <th>item_cnt_month</th>\n",
       "      <th>item_price</th>\n",
       "    </tr>\n",
       "  </thead>\n",
       "  <tbody>\n",
       "    <tr>\n",
       "      <th>0</th>\n",
       "      <td>0</td>\n",
       "      <td>2</td>\n",
       "      <td>0</td>\n",
       "      <td>1</td>\n",
       "      <td>2013</td>\n",
       "      <td>0</td>\n",
       "      <td>499.0</td>\n",
       "    </tr>\n",
       "    <tr>\n",
       "      <th>840221</th>\n",
       "      <td>0</td>\n",
       "      <td>41</td>\n",
       "      <td>3</td>\n",
       "      <td>1</td>\n",
       "      <td>2013</td>\n",
       "      <td>0</td>\n",
       "      <td>499.0</td>\n",
       "    </tr>\n",
       "    <tr>\n",
       "      <th>840220</th>\n",
       "      <td>0</td>\n",
       "      <td>41</td>\n",
       "      <td>2</td>\n",
       "      <td>1</td>\n",
       "      <td>2013</td>\n",
       "      <td>0</td>\n",
       "      <td>499.0</td>\n",
       "    </tr>\n",
       "    <tr>\n",
       "      <th>840219</th>\n",
       "      <td>0</td>\n",
       "      <td>41</td>\n",
       "      <td>1</td>\n",
       "      <td>1</td>\n",
       "      <td>2013</td>\n",
       "      <td>0</td>\n",
       "      <td>499.0</td>\n",
       "    </tr>\n",
       "    <tr>\n",
       "      <th>840218</th>\n",
       "      <td>0</td>\n",
       "      <td>41</td>\n",
       "      <td>0</td>\n",
       "      <td>1</td>\n",
       "      <td>2013</td>\n",
       "      <td>0</td>\n",
       "      <td>499.0</td>\n",
       "    </tr>\n",
       "    <tr>\n",
       "      <th>840217</th>\n",
       "      <td>0</td>\n",
       "      <td>40</td>\n",
       "      <td>22169</td>\n",
       "      <td>1</td>\n",
       "      <td>2013</td>\n",
       "      <td>0</td>\n",
       "      <td>499.0</td>\n",
       "    </tr>\n",
       "    <tr>\n",
       "      <th>840216</th>\n",
       "      <td>0</td>\n",
       "      <td>40</td>\n",
       "      <td>22168</td>\n",
       "      <td>1</td>\n",
       "      <td>2013</td>\n",
       "      <td>0</td>\n",
       "      <td>499.0</td>\n",
       "    </tr>\n",
       "    <tr>\n",
       "      <th>840215</th>\n",
       "      <td>0</td>\n",
       "      <td>40</td>\n",
       "      <td>22167</td>\n",
       "      <td>1</td>\n",
       "      <td>2013</td>\n",
       "      <td>0</td>\n",
       "      <td>499.0</td>\n",
       "    </tr>\n",
       "    <tr>\n",
       "      <th>840214</th>\n",
       "      <td>0</td>\n",
       "      <td>40</td>\n",
       "      <td>22166</td>\n",
       "      <td>1</td>\n",
       "      <td>2013</td>\n",
       "      <td>0</td>\n",
       "      <td>499.0</td>\n",
       "    </tr>\n",
       "    <tr>\n",
       "      <th>840213</th>\n",
       "      <td>0</td>\n",
       "      <td>40</td>\n",
       "      <td>22165</td>\n",
       "      <td>1</td>\n",
       "      <td>2013</td>\n",
       "      <td>0</td>\n",
       "      <td>499.0</td>\n",
       "    </tr>\n",
       "  </tbody>\n",
       "</table>\n",
       "</div>"
      ],
      "text/plain": [
       "        date_block_num  shop_id  item_id  month  year  item_cnt_month  \\\n",
       "0                    0        2        0      1  2013               0   \n",
       "840221               0       41        3      1  2013               0   \n",
       "840220               0       41        2      1  2013               0   \n",
       "840219               0       41        1      1  2013               0   \n",
       "840218               0       41        0      1  2013               0   \n",
       "840217               0       40    22169      1  2013               0   \n",
       "840216               0       40    22168      1  2013               0   \n",
       "840215               0       40    22167      1  2013               0   \n",
       "840214               0       40    22166      1  2013               0   \n",
       "840213               0       40    22165      1  2013               0   \n",
       "\n",
       "        item_price  \n",
       "0            499.0  \n",
       "840221       499.0  \n",
       "840220       499.0  \n",
       "840219       499.0  \n",
       "840218       499.0  \n",
       "840217       499.0  \n",
       "840216       499.0  \n",
       "840215       499.0  \n",
       "840214       499.0  \n",
       "840213       499.0  "
      ]
     },
     "execution_count": 29,
     "metadata": {},
     "output_type": "execute_result"
    }
   ],
   "source": [
    "train_with_zeroes.head(10)"
   ]
  },
  {
   "cell_type": "code",
   "execution_count": 32,
   "metadata": {},
   "outputs": [],
   "source": [
    "test_lag_set = test_df[['item_id', 'shop_id', 'ID']].merge(train_with_zeroes, on = ['shop_id', 'item_id'])"
   ]
  },
  {
   "cell_type": "code",
   "execution_count": 40,
   "metadata": {},
   "outputs": [
    {
     "name": "stdout",
     "output_type": "stream",
     "text": [
      "<class 'pandas.core.frame.DataFrame'>\n",
      "Int64Index: 7495572 entries, 0 to 214199\n",
      "Data columns (total 8 columns):\n",
      " #   Column          Non-Null Count    Dtype  \n",
      "---  ------          --------------    -----  \n",
      " 0   item_id         7495572 non-null  int16  \n",
      " 1   shop_id         7495572 non-null  int8   \n",
      " 2   ID              7495572 non-null  int32  \n",
      " 3   date_block_num  7495572 non-null  int8   \n",
      " 4   month           7495572 non-null  int8   \n",
      " 5   year            7495572 non-null  int16  \n",
      " 6   item_cnt_month  7495572 non-null  int16  \n",
      " 7   item_price      7495572 non-null  float64\n",
      "dtypes: float64(1), int16(3), int32(1), int8(3)\n",
      "memory usage: 207.3 MB\n"
     ]
    }
   ],
   "source": [
    "test_df_full.info(verbose=True, show_counts=True)"
   ]
  },
  {
   "cell_type": "code",
   "execution_count": 34,
   "metadata": {},
   "outputs": [],
   "source": [
    "test_df_full = pd.concat([test_lag_set, test_df])\n",
    "test_df_full.sort_values(by=['date_block_num'], inplace=True)"
   ]
  },
  {
   "cell_type": "code",
   "execution_count": 36,
   "metadata": {},
   "outputs": [],
   "source": [
    "del test_lag_set\n",
    "del test_df"
   ]
  },
  {
   "cell_type": "code",
   "execution_count": 37,
   "metadata": {},
   "outputs": [],
   "source": [
    "test_df_full['shop_id'] = test_df_full['shop_id'].astype(np.int8)\n",
    "test_df_full['item_id'] = test_df_full['item_id'].astype(np.int16)\n",
    "test_df_full['ID'] = test_df_full['ID'].astype(np.int32)"
   ]
  },
  {
   "cell_type": "code",
   "execution_count": 39,
   "metadata": {},
   "outputs": [],
   "source": [
    "test_df_full['item_price'] = test_df_full.groupby(['item_id', 'shop_id'])['item_price'].ffill().bfill()\n",
    "test_df_full['item_price'] = test_df_full.groupby(['item_id'])['item_price'].ffill().bfill()"
   ]
  },
  {
   "cell_type": "code",
   "execution_count": 41,
   "metadata": {},
   "outputs": [
    {
     "name": "stdout",
     "output_type": "stream",
     "text": [
      "Wall time: 58.8 s\n"
     ]
    }
   ],
   "source": [
    "%%time\n",
    "full_train = enrich_dataset(train_with_zeroes, items, shops)"
   ]
  },
  {
   "cell_type": "code",
   "execution_count": 42,
   "metadata": {},
   "outputs": [
    {
     "name": "stdout",
     "output_type": "stream",
     "text": [
      "<class 'pandas.core.frame.DataFrame'>\n",
      "Int64Index: 42851118 entries, 0 to 42851117\n",
      "Data columns (total 12 columns):\n",
      " #   Column            Non-Null Count     Dtype  \n",
      "---  ------            --------------     -----  \n",
      " 0   date_block_num    42851118 non-null  int8   \n",
      " 1   shop_id           42851118 non-null  int8   \n",
      " 2   item_id           42851118 non-null  int16  \n",
      " 3   month             42851118 non-null  int8   \n",
      " 4   year              42851118 non-null  int16  \n",
      " 5   item_cnt_month    42851118 non-null  int16  \n",
      " 6   item_price        42851118 non-null  float64\n",
      " 7   shop_type         42851118 non-null  object \n",
      " 8   city              42851118 non-null  object \n",
      " 9   item_category_id  42851118 non-null  int64  \n",
      " 10  category          42851118 non-null  object \n",
      " 11  sub_category      42851118 non-null  object \n",
      "dtypes: float64(1), int16(3), int64(1), int8(3), object(4)\n",
      "memory usage: 2.6+ GB\n"
     ]
    }
   ],
   "source": [
    "full_train.info(verbose=True, show_counts=True)"
   ]
  },
  {
   "cell_type": "code",
   "execution_count": 43,
   "metadata": {},
   "outputs": [
    {
     "name": "stdout",
     "output_type": "stream",
     "text": [
      "Wall time: 10.5 s\n"
     ]
    }
   ],
   "source": [
    "%%time\n",
    "full_test = enrich_dataset(test_df_full, items, shops)"
   ]
  },
  {
   "cell_type": "code",
   "execution_count": 44,
   "metadata": {},
   "outputs": [
    {
     "name": "stdout",
     "output_type": "stream",
     "text": [
      "<class 'pandas.core.frame.DataFrame'>\n",
      "Int64Index: 7495572 entries, 0 to 7495571\n",
      "Data columns (total 13 columns):\n",
      " #   Column            Non-Null Count    Dtype  \n",
      "---  ------            --------------    -----  \n",
      " 0   item_id           7495572 non-null  int16  \n",
      " 1   shop_id           7495572 non-null  int8   \n",
      " 2   ID                7495572 non-null  int32  \n",
      " 3   date_block_num    7495572 non-null  int8   \n",
      " 4   month             7495572 non-null  int8   \n",
      " 5   year              7495572 non-null  int16  \n",
      " 6   item_cnt_month    7495572 non-null  int16  \n",
      " 7   item_price        7495572 non-null  float64\n",
      " 8   shop_type         7495572 non-null  object \n",
      " 9   city              7495572 non-null  object \n",
      " 10  item_category_id  7495572 non-null  int64  \n",
      " 11  category          7495572 non-null  object \n",
      " 12  sub_category      7495572 non-null  object \n",
      "dtypes: float64(1), int16(3), int32(1), int64(1), int8(3), object(4)\n",
      "memory usage: 493.2+ MB\n"
     ]
    }
   ],
   "source": [
    "full_test.info(verbose=True, show_counts=True)"
   ]
  },
  {
   "cell_type": "code",
   "execution_count": 45,
   "metadata": {},
   "outputs": [],
   "source": [
    "full_train['item_category_id'] = full_train['item_category_id'].astype(np.int8)\n",
    "full_test['item_category_id'] = full_test['item_category_id'].astype(np.int8)"
   ]
  },
  {
   "cell_type": "code",
   "execution_count": null,
   "metadata": {},
   "outputs": [],
   "source": []
  },
  {
   "cell_type": "code",
   "execution_count": null,
   "metadata": {},
   "outputs": [],
   "source": []
  },
  {
   "cell_type": "code",
   "execution_count": null,
   "metadata": {},
   "outputs": [],
   "source": []
  },
  {
   "cell_type": "code",
   "execution_count": 46,
   "metadata": {},
   "outputs": [],
   "source": [
    "def lag_feature(df, lags, col):\n",
    "    tmp = df[['date_block_num','shop_id','item_id',col]]\n",
    "    for i in lags:\n",
    "        shifted = tmp.copy()\n",
    "        shifted.columns = ['date_block_num','shop_id','item_id', col+'_lag_'+str(i)]\n",
    "        shifted['date_block_num'] += i\n",
    "        df = pd.merge(df, shifted, on=['date_block_num','shop_id','item_id'], how='left')\n",
    "    return df"
   ]
  },
  {
   "cell_type": "code",
   "execution_count": 47,
   "metadata": {},
   "outputs": [
    {
     "name": "stdout",
     "output_type": "stream",
     "text": [
      "Wall time: 3min 37s\n"
     ]
    }
   ],
   "source": [
    "%%time\n",
    "full_train = lag_feature(full_train, [1,2,3,6,12], 'item_cnt_month')"
   ]
  },
  {
   "cell_type": "code",
   "execution_count": 49,
   "metadata": {},
   "outputs": [
    {
     "name": "stdout",
     "output_type": "stream",
     "text": [
      "Wall time: 48 s\n"
     ]
    }
   ],
   "source": [
    "%%time\n",
    "full_test = lag_feature(full_test, [1,2,3,6,12], 'item_cnt_month')"
   ]
  },
  {
   "cell_type": "code",
   "execution_count": 48,
   "metadata": {},
   "outputs": [],
   "source": [
    "def convert_lag(df):\n",
    "    df['item_cnt_month_lag_1'] = df['item_cnt_month_lag_1'].astype(np.float16)\n",
    "    df['item_cnt_month_lag_2'] = df['item_cnt_month_lag_2'].astype(np.float16)\n",
    "    df['item_cnt_month_lag_3'] = df['item_cnt_month_lag_3'].astype(np.float16)\n",
    "    df['item_cnt_month_lag_6'] = df['item_cnt_month_lag_6'].astype(np.float16)\n",
    "    df['item_cnt_month_lag_12'] = df['item_cnt_month_lag_12'].astype(np.float16)"
   ]
  },
  {
   "cell_type": "code",
   "execution_count": 50,
   "metadata": {},
   "outputs": [],
   "source": [
    "convert_lag(full_train)\n",
    "convert_lag(full_test)"
   ]
  },
  {
   "cell_type": "code",
   "execution_count": null,
   "metadata": {},
   "outputs": [],
   "source": []
  },
  {
   "cell_type": "code",
   "execution_count": 51,
   "metadata": {},
   "outputs": [],
   "source": [
    "real_train = full_train[full_train.date_block_num > 11]"
   ]
  },
  {
   "cell_type": "code",
   "execution_count": 52,
   "metadata": {},
   "outputs": [],
   "source": [
    "real_test = full_test[full_test.date_block_num == 34]"
   ]
  },
  {
   "cell_type": "code",
   "execution_count": 53,
   "metadata": {},
   "outputs": [],
   "source": [
    "def enrich_real_train(full_df, real_df, cols, date_block=None):\n",
    "    group_by_cols, group_cols = calculate_and_add_lag(full_df, cols, date_block)\n",
    "    real_df = pd.merge(real_df, group_by_cols, on=group_cols, how='left')\n",
    "    return real_df"
   ]
  },
  {
   "cell_type": "code",
   "execution_count": null,
   "metadata": {},
   "outputs": [],
   "source": []
  },
  {
   "cell_type": "markdown",
   "metadata": {},
   "source": [
    "### Add lag features"
   ]
  },
  {
   "cell_type": "code",
   "execution_count": 54,
   "metadata": {},
   "outputs": [
    {
     "name": "stdout",
     "output_type": "stream",
     "text": [
      "Wall time: 36.6 s\n"
     ]
    }
   ],
   "source": [
    "%%time\n",
    "real_train = enrich_real_train(full_train, real_train, ['date_block_num', 'item_id'])"
   ]
  },
  {
   "cell_type": "code",
   "execution_count": 55,
   "metadata": {},
   "outputs": [],
   "source": [
    "def convert_avg_lag_values(df, columns):\n",
    "    grouping = '_'.join(columns)\n",
    "    column_name = f'{grouping}_avg_item_cnt_lag_'\n",
    "    for lag in [1, 2, 3, 6, 9, 12]:\n",
    "        col = f\"{column_name}{lag}\"\n",
    "        df[col] = df[col].astype(np.float16)"
   ]
  },
  {
   "cell_type": "code",
   "execution_count": 56,
   "metadata": {},
   "outputs": [],
   "source": [
    "convert_avg_lag_values(real_train, ['item_id'])"
   ]
  },
  {
   "cell_type": "code",
   "execution_count": 63,
   "metadata": {},
   "outputs": [
    {
     "name": "stdout",
     "output_type": "stream",
     "text": [
      "<class 'pandas.core.frame.DataFrame'>\n",
      "Int64Index: 27727194 entries, 0 to 27727193\n",
      "Data columns (total 29 columns):\n",
      " #   Column                       Non-Null Count     Dtype  \n",
      "---  ------                       --------------     -----  \n",
      " 0   date_block_num               27727194 non-null  int8   \n",
      " 1   shop_id                      27727194 non-null  int8   \n",
      " 2   item_id                      27727194 non-null  int16  \n",
      " 3   month                        27727194 non-null  int8   \n",
      " 4   year                         27727194 non-null  int16  \n",
      " 5   item_cnt_month               27727194 non-null  int16  \n",
      " 6   item_price                   27727194 non-null  float64\n",
      " 7   shop_type                    27727194 non-null  object \n",
      " 8   city                         27727194 non-null  object \n",
      " 9   item_category_id             27727194 non-null  int8   \n",
      " 10  category                     27727194 non-null  object \n",
      " 11  sub_category                 27727194 non-null  object \n",
      " 12  item_cnt_month_lag_1         27727194 non-null  float16\n",
      " 13  item_cnt_month_lag_2         27727194 non-null  float16\n",
      " 14  item_cnt_month_lag_3         27727194 non-null  float16\n",
      " 15  item_cnt_month_lag_6         27727194 non-null  float16\n",
      " 16  item_cnt_month_lag_12        27727194 non-null  float16\n",
      " 17  item_id_avg_item_cnt_lag_1   27727194 non-null  float16\n",
      " 18  item_id_avg_item_cnt_lag_2   27727194 non-null  float16\n",
      " 19  item_id_avg_item_cnt_lag_3   27727194 non-null  float16\n",
      " 20  item_id_avg_item_cnt_lag_6   27727194 non-null  float16\n",
      " 21  item_id_avg_item_cnt_lag_9   27727194 non-null  float16\n",
      " 22  item_id_avg_item_cnt_lag_12  27727194 non-null  float16\n",
      " 23  shop_id_avg_item_cnt_lag_1   27727194 non-null  float64\n",
      " 24  shop_id_avg_item_cnt_lag_2   27727194 non-null  float64\n",
      " 25  shop_id_avg_item_cnt_lag_3   27727194 non-null  float64\n",
      " 26  shop_id_avg_item_cnt_lag_6   27727194 non-null  float64\n",
      " 27  shop_id_avg_item_cnt_lag_9   27727194 non-null  float64\n",
      " 28  shop_id_avg_item_cnt_lag_12  27727194 non-null  float64\n",
      "dtypes: float16(11), float64(7), int16(3), int8(4), object(4)\n",
      "memory usage: 3.3+ GB\n"
     ]
    }
   ],
   "source": [
    "real_train.info(verbose=True, show_counts=True)"
   ]
  },
  {
   "cell_type": "code",
   "execution_count": 58,
   "metadata": {},
   "outputs": [
    {
     "name": "stdout",
     "output_type": "stream",
     "text": [
      "Wall time: 3.98 s\n"
     ]
    }
   ],
   "source": [
    "%%time\n",
    "real_test = enrich_real_train(full_test, real_test, ['date_block_num', 'item_id'])"
   ]
  },
  {
   "cell_type": "code",
   "execution_count": 59,
   "metadata": {},
   "outputs": [],
   "source": [
    "convert_avg_lag_values(real_test, ['item_id'])"
   ]
  },
  {
   "cell_type": "code",
   "execution_count": 60,
   "metadata": {},
   "outputs": [
    {
     "name": "stdout",
     "output_type": "stream",
     "text": [
      "<class 'pandas.core.frame.DataFrame'>\n",
      "Int64Index: 214200 entries, 0 to 214199\n",
      "Data columns (total 24 columns):\n",
      " #   Column                       Non-Null Count   Dtype  \n",
      "---  ------                       --------------   -----  \n",
      " 0   item_id                      214200 non-null  int16  \n",
      " 1   shop_id                      214200 non-null  int8   \n",
      " 2   ID                           214200 non-null  int32  \n",
      " 3   date_block_num               214200 non-null  int8   \n",
      " 4   month                        214200 non-null  int8   \n",
      " 5   year                         214200 non-null  int16  \n",
      " 6   item_cnt_month               214200 non-null  int16  \n",
      " 7   item_price                   214200 non-null  float64\n",
      " 8   shop_type                    214200 non-null  object \n",
      " 9   city                         214200 non-null  object \n",
      " 10  item_category_id             214200 non-null  int8   \n",
      " 11  category                     214200 non-null  object \n",
      " 12  sub_category                 214200 non-null  object \n",
      " 13  item_cnt_month_lag_1         214158 non-null  float16\n",
      " 14  item_cnt_month_lag_2         214158 non-null  float16\n",
      " 15  item_cnt_month_lag_3         214158 non-null  float16\n",
      " 16  item_cnt_month_lag_6         214158 non-null  float16\n",
      " 17  item_cnt_month_lag_12        214158 non-null  float16\n",
      " 18  item_id_avg_item_cnt_lag_1   214158 non-null  float16\n",
      " 19  item_id_avg_item_cnt_lag_2   214158 non-null  float16\n",
      " 20  item_id_avg_item_cnt_lag_3   214158 non-null  float16\n",
      " 21  item_id_avg_item_cnt_lag_6   214158 non-null  float16\n",
      " 22  item_id_avg_item_cnt_lag_9   214158 non-null  float16\n",
      " 23  item_id_avg_item_cnt_lag_12  214158 non-null  float16\n",
      "dtypes: float16(11), float64(1), int16(3), int32(1), int8(4), object(4)\n",
      "memory usage: 17.2+ MB\n"
     ]
    }
   ],
   "source": [
    "real_test.info(verbose=True, show_counts=True)"
   ]
  },
  {
   "cell_type": "code",
   "execution_count": 61,
   "metadata": {},
   "outputs": [
    {
     "name": "stdout",
     "output_type": "stream",
     "text": [
      "Wall time: 0 ns\n"
     ]
    }
   ],
   "source": [
    "%time\n",
    "real_train = enrich_real_train(full_train, real_train, ['date_block_num', 'shop_id'])"
   ]
  },
  {
   "cell_type": "code",
   "execution_count": 64,
   "metadata": {},
   "outputs": [],
   "source": [
    "convert_avg_lag_values(real_train, ['shop_id'])"
   ]
  },
  {
   "cell_type": "code",
   "execution_count": 65,
   "metadata": {},
   "outputs": [
    {
     "name": "stdout",
     "output_type": "stream",
     "text": [
      "Wall time: 0 ns\n"
     ]
    }
   ],
   "source": [
    "%time\n",
    "real_test = enrich_real_train(full_test, real_test, ['date_block_num', 'shop_id'])"
   ]
  },
  {
   "cell_type": "code",
   "execution_count": 66,
   "metadata": {},
   "outputs": [],
   "source": [
    "convert_avg_lag_values(real_test, ['shop_id'])"
   ]
  },
  {
   "cell_type": "code",
   "execution_count": null,
   "metadata": {},
   "outputs": [],
   "source": []
  },
  {
   "cell_type": "code",
   "execution_count": 67,
   "metadata": {},
   "outputs": [
    {
     "name": "stdout",
     "output_type": "stream",
     "text": [
      "Wall time: 14min 23s\n"
     ]
    }
   ],
   "source": [
    "%%time\n",
    "real_train = enrich_real_train(full_train, real_train, ['date_block_num', 'shop_id', 'item_id'])"
   ]
  },
  {
   "cell_type": "code",
   "execution_count": 68,
   "metadata": {},
   "outputs": [],
   "source": [
    "convert_avg_lag_values(real_train, ['shop_id', 'item_id'])"
   ]
  },
  {
   "cell_type": "code",
   "execution_count": 69,
   "metadata": {},
   "outputs": [
    {
     "name": "stdout",
     "output_type": "stream",
     "text": [
      "Wall time: 2min 34s\n"
     ]
    }
   ],
   "source": [
    "%%time\n",
    "real_test = enrich_real_train(full_test, real_test, ['date_block_num', 'shop_id', 'item_id'])"
   ]
  },
  {
   "cell_type": "code",
   "execution_count": 70,
   "metadata": {},
   "outputs": [],
   "source": [
    "convert_avg_lag_values(real_test, ['shop_id', 'item_id'])"
   ]
  },
  {
   "cell_type": "code",
   "execution_count": null,
   "metadata": {},
   "outputs": [],
   "source": []
  },
  {
   "cell_type": "code",
   "execution_count": 71,
   "metadata": {},
   "outputs": [
    {
     "name": "stdout",
     "output_type": "stream",
     "text": [
      "Wall time: 22 s\n"
     ]
    }
   ],
   "source": [
    "%%time\n",
    "real_train = enrich_real_train(full_train, real_train, ['date_block_num',  'item_category_id'])"
   ]
  },
  {
   "cell_type": "code",
   "execution_count": 72,
   "metadata": {},
   "outputs": [],
   "source": [
    "convert_avg_lag_values(real_train, ['item_category_id'])"
   ]
  },
  {
   "cell_type": "code",
   "execution_count": 73,
   "metadata": {},
   "outputs": [
    {
     "name": "stdout",
     "output_type": "stream",
     "text": [
      "Wall time: 1.65 s\n"
     ]
    }
   ],
   "source": [
    "%%time\n",
    "real_test = enrich_real_train(full_test, real_test, ['date_block_num',  'item_category_id'])"
   ]
  },
  {
   "cell_type": "code",
   "execution_count": 74,
   "metadata": {},
   "outputs": [],
   "source": [
    "convert_avg_lag_values(real_test, ['item_category_id'])"
   ]
  },
  {
   "cell_type": "code",
   "execution_count": null,
   "metadata": {},
   "outputs": [],
   "source": []
  },
  {
   "cell_type": "code",
   "execution_count": 75,
   "metadata": {},
   "outputs": [
    {
     "name": "stdout",
     "output_type": "stream",
     "text": [
      "Wall time: 29.7 s\n"
     ]
    }
   ],
   "source": [
    "%%time\n",
    "real_train = enrich_real_train(full_train, real_train, ['date_block_num', 'category'])"
   ]
  },
  {
   "cell_type": "code",
   "execution_count": 76,
   "metadata": {},
   "outputs": [],
   "source": [
    "convert_avg_lag_values(real_train, ['category'])"
   ]
  },
  {
   "cell_type": "code",
   "execution_count": 77,
   "metadata": {},
   "outputs": [
    {
     "name": "stdout",
     "output_type": "stream",
     "text": [
      "Wall time: 3.98 s\n"
     ]
    }
   ],
   "source": [
    "%%time\n",
    "real_test = enrich_real_train(full_test, real_test, ['date_block_num', 'category'])"
   ]
  },
  {
   "cell_type": "code",
   "execution_count": 78,
   "metadata": {},
   "outputs": [],
   "source": [
    "convert_avg_lag_values(real_test, ['category'])"
   ]
  },
  {
   "cell_type": "code",
   "execution_count": null,
   "metadata": {},
   "outputs": [],
   "source": []
  },
  {
   "cell_type": "code",
   "execution_count": 79,
   "metadata": {},
   "outputs": [
    {
     "name": "stdout",
     "output_type": "stream",
     "text": [
      "Wall time: 38.6 s\n"
     ]
    }
   ],
   "source": [
    "%%time\n",
    "real_train = enrich_real_train(full_train, real_train, ['date_block_num', 'sub_category'])"
   ]
  },
  {
   "cell_type": "code",
   "execution_count": 80,
   "metadata": {},
   "outputs": [],
   "source": [
    "convert_avg_lag_values(real_train, ['sub_category'])"
   ]
  },
  {
   "cell_type": "code",
   "execution_count": 81,
   "metadata": {},
   "outputs": [
    {
     "name": "stdout",
     "output_type": "stream",
     "text": [
      "Wall time: 3.25 s\n"
     ]
    }
   ],
   "source": [
    "%%time\n",
    "real_test = enrich_real_train(full_test, real_test, ['date_block_num', 'sub_category'])"
   ]
  },
  {
   "cell_type": "code",
   "execution_count": 82,
   "metadata": {},
   "outputs": [],
   "source": [
    "convert_avg_lag_values(real_test, ['sub_category'])"
   ]
  },
  {
   "cell_type": "code",
   "execution_count": null,
   "metadata": {},
   "outputs": [],
   "source": []
  },
  {
   "cell_type": "code",
   "execution_count": 83,
   "metadata": {},
   "outputs": [
    {
     "name": "stdout",
     "output_type": "stream",
     "text": [
      "Wall time: 47.7 s\n"
     ]
    }
   ],
   "source": [
    "%%time\n",
    "real_train = enrich_real_train(full_train, real_train, ['date_block_num', 'shop_id', 'category'])"
   ]
  },
  {
   "cell_type": "code",
   "execution_count": 84,
   "metadata": {},
   "outputs": [],
   "source": [
    "convert_avg_lag_values(real_train, ['shop_id', 'category'])"
   ]
  },
  {
   "cell_type": "code",
   "execution_count": 85,
   "metadata": {},
   "outputs": [
    {
     "name": "stdout",
     "output_type": "stream",
     "text": [
      "Wall time: 4.18 s\n"
     ]
    }
   ],
   "source": [
    "%%time\n",
    "real_test = enrich_real_train(full_test, real_test, ['date_block_num', 'shop_id', 'category'])"
   ]
  },
  {
   "cell_type": "code",
   "execution_count": 86,
   "metadata": {},
   "outputs": [],
   "source": [
    "convert_avg_lag_values(real_test, ['shop_id', 'category'])"
   ]
  },
  {
   "cell_type": "code",
   "execution_count": null,
   "metadata": {},
   "outputs": [],
   "source": []
  },
  {
   "cell_type": "code",
   "execution_count": 87,
   "metadata": {},
   "outputs": [
    {
     "name": "stdout",
     "output_type": "stream",
     "text": [
      "Wall time: 54.7 s\n"
     ]
    }
   ],
   "source": [
    "%%time\n",
    "real_train = enrich_real_train(full_train, real_train, ['date_block_num', 'shop_id', 'sub_category'])"
   ]
  },
  {
   "cell_type": "code",
   "execution_count": 88,
   "metadata": {},
   "outputs": [],
   "source": [
    "convert_avg_lag_values(real_train, ['shop_id', 'sub_category'])"
   ]
  },
  {
   "cell_type": "code",
   "execution_count": 89,
   "metadata": {},
   "outputs": [
    {
     "name": "stdout",
     "output_type": "stream",
     "text": [
      "Wall time: 5.07 s\n"
     ]
    }
   ],
   "source": [
    "%%time\n",
    "real_test = enrich_real_train(full_test, real_test, ['date_block_num', 'shop_id', 'sub_category'])"
   ]
  },
  {
   "cell_type": "code",
   "execution_count": 90,
   "metadata": {},
   "outputs": [],
   "source": [
    "convert_avg_lag_values(real_test, ['shop_id', 'sub_category'])"
   ]
  },
  {
   "cell_type": "code",
   "execution_count": null,
   "metadata": {},
   "outputs": [],
   "source": []
  },
  {
   "cell_type": "code",
   "execution_count": 91,
   "metadata": {},
   "outputs": [
    {
     "name": "stdout",
     "output_type": "stream",
     "text": [
      "Wall time: 44.6 s\n"
     ]
    }
   ],
   "source": [
    "%%time\n",
    "real_train = enrich_real_train(full_train, real_train, ['date_block_num', 'shop_id', 'item_category_id'])"
   ]
  },
  {
   "cell_type": "code",
   "execution_count": 92,
   "metadata": {},
   "outputs": [],
   "source": [
    "convert_avg_lag_values(real_train, ['shop_id', 'item_category_id'])"
   ]
  },
  {
   "cell_type": "code",
   "execution_count": 93,
   "metadata": {},
   "outputs": [
    {
     "name": "stdout",
     "output_type": "stream",
     "text": [
      "Wall time: 4.19 s\n"
     ]
    }
   ],
   "source": [
    "%%time\n",
    "real_test = enrich_real_train(full_test, real_test, ['date_block_num', 'shop_id', 'item_category_id'])"
   ]
  },
  {
   "cell_type": "code",
   "execution_count": 94,
   "metadata": {},
   "outputs": [],
   "source": [
    "convert_avg_lag_values(real_test, ['shop_id', 'item_category_id'])"
   ]
  },
  {
   "cell_type": "code",
   "execution_count": null,
   "metadata": {},
   "outputs": [],
   "source": []
  },
  {
   "cell_type": "code",
   "execution_count": 95,
   "metadata": {},
   "outputs": [
    {
     "name": "stdout",
     "output_type": "stream",
     "text": [
      "Wall time: 48.4 s\n"
     ]
    }
   ],
   "source": [
    "%%time\n",
    "real_train = enrich_real_train(full_train, real_train, ['date_block_num',  'city'])"
   ]
  },
  {
   "cell_type": "code",
   "execution_count": 97,
   "metadata": {},
   "outputs": [],
   "source": [
    "convert_avg_lag_values(real_train, [ 'city'])"
   ]
  },
  {
   "cell_type": "code",
   "execution_count": 98,
   "metadata": {},
   "outputs": [
    {
     "name": "stdout",
     "output_type": "stream",
     "text": [
      "Wall time: 4.03 s\n"
     ]
    }
   ],
   "source": [
    "%%time\n",
    "real_test = enrich_real_train(full_test, real_test, ['date_block_num', 'city'])"
   ]
  },
  {
   "cell_type": "code",
   "execution_count": 99,
   "metadata": {},
   "outputs": [],
   "source": [
    "convert_avg_lag_values(real_test, ['city'])"
   ]
  },
  {
   "cell_type": "code",
   "execution_count": null,
   "metadata": {},
   "outputs": [],
   "source": []
  },
  {
   "cell_type": "code",
   "execution_count": 100,
   "metadata": {},
   "outputs": [],
   "source": [
    "real_train.drop(columns=['category', 'sub_category', 'city', 'shop_type', 'item_category_id'], inplace=True)"
   ]
  },
  {
   "cell_type": "code",
   "execution_count": 101,
   "metadata": {},
   "outputs": [],
   "source": [
    "real_test.drop(columns=['category', 'sub_category', 'city', 'shop_type', 'item_category_id'], inplace=True)"
   ]
  },
  {
   "cell_type": "code",
   "execution_count": 102,
   "metadata": {
    "scrolled": true
   },
   "outputs": [],
   "source": [
    "del full_train\n",
    "del full_test"
   ]
  },
  {
   "cell_type": "code",
   "execution_count": 103,
   "metadata": {},
   "outputs": [
    {
     "name": "stdout",
     "output_type": "stream",
     "text": [
      "<class 'pandas.core.frame.DataFrame'>\n",
      "Int64Index: 27727194 entries, 0 to 27727193\n",
      "Data columns (total 72 columns):\n",
      " #   Column                                        Non-Null Count     Dtype  \n",
      "---  ------                                        --------------     -----  \n",
      " 0   date_block_num                                27727194 non-null  int8   \n",
      " 1   shop_id                                       27727194 non-null  int8   \n",
      " 2   item_id                                       27727194 non-null  int16  \n",
      " 3   month                                         27727194 non-null  int8   \n",
      " 4   year                                          27727194 non-null  int16  \n",
      " 5   item_cnt_month                                27727194 non-null  int16  \n",
      " 6   item_price                                    27727194 non-null  float64\n",
      " 7   item_cnt_month_lag_1                          27727194 non-null  float16\n",
      " 8   item_cnt_month_lag_2                          27727194 non-null  float16\n",
      " 9   item_cnt_month_lag_3                          27727194 non-null  float16\n",
      " 10  item_cnt_month_lag_6                          27727194 non-null  float16\n",
      " 11  item_cnt_month_lag_12                         27727194 non-null  float16\n",
      " 12  item_id_avg_item_cnt_lag_1                    27727194 non-null  float16\n",
      " 13  item_id_avg_item_cnt_lag_2                    27727194 non-null  float16\n",
      " 14  item_id_avg_item_cnt_lag_3                    27727194 non-null  float16\n",
      " 15  item_id_avg_item_cnt_lag_6                    27727194 non-null  float16\n",
      " 16  item_id_avg_item_cnt_lag_9                    27727194 non-null  float16\n",
      " 17  item_id_avg_item_cnt_lag_12                   27727194 non-null  float16\n",
      " 18  shop_id_avg_item_cnt_lag_1                    27727194 non-null  float16\n",
      " 19  shop_id_avg_item_cnt_lag_2                    27727194 non-null  float16\n",
      " 20  shop_id_avg_item_cnt_lag_3                    27727194 non-null  float16\n",
      " 21  shop_id_avg_item_cnt_lag_6                    27727194 non-null  float16\n",
      " 22  shop_id_avg_item_cnt_lag_9                    27727194 non-null  float16\n",
      " 23  shop_id_avg_item_cnt_lag_12                   27727194 non-null  float16\n",
      " 24  shop_id_item_id_avg_item_cnt_lag_1            27727194 non-null  float16\n",
      " 25  shop_id_item_id_avg_item_cnt_lag_2            27727194 non-null  float16\n",
      " 26  shop_id_item_id_avg_item_cnt_lag_3            27727194 non-null  float16\n",
      " 27  shop_id_item_id_avg_item_cnt_lag_6            27727194 non-null  float16\n",
      " 28  shop_id_item_id_avg_item_cnt_lag_9            27727194 non-null  float16\n",
      " 29  shop_id_item_id_avg_item_cnt_lag_12           27727194 non-null  float16\n",
      " 30  item_category_id_avg_item_cnt_lag_1           27727194 non-null  float16\n",
      " 31  item_category_id_avg_item_cnt_lag_2           27727194 non-null  float16\n",
      " 32  item_category_id_avg_item_cnt_lag_3           27727194 non-null  float16\n",
      " 33  item_category_id_avg_item_cnt_lag_6           27727194 non-null  float16\n",
      " 34  item_category_id_avg_item_cnt_lag_9           27727194 non-null  float16\n",
      " 35  item_category_id_avg_item_cnt_lag_12          27727194 non-null  float16\n",
      " 36  category_avg_item_cnt_lag_1                   27727194 non-null  float16\n",
      " 37  category_avg_item_cnt_lag_2                   27727194 non-null  float16\n",
      " 38  category_avg_item_cnt_lag_3                   27727194 non-null  float16\n",
      " 39  category_avg_item_cnt_lag_6                   27727194 non-null  float16\n",
      " 40  category_avg_item_cnt_lag_9                   27727194 non-null  float16\n",
      " 41  category_avg_item_cnt_lag_12                  27727194 non-null  float16\n",
      " 42  sub_category_avg_item_cnt_lag_1               27727194 non-null  float16\n",
      " 43  sub_category_avg_item_cnt_lag_2               27727194 non-null  float16\n",
      " 44  sub_category_avg_item_cnt_lag_3               27727194 non-null  float16\n",
      " 45  sub_category_avg_item_cnt_lag_6               27727194 non-null  float16\n",
      " 46  sub_category_avg_item_cnt_lag_9               27727194 non-null  float16\n",
      " 47  sub_category_avg_item_cnt_lag_12              27727194 non-null  float16\n",
      " 48  shop_id_category_avg_item_cnt_lag_1           27727194 non-null  float16\n",
      " 49  shop_id_category_avg_item_cnt_lag_2           27727194 non-null  float16\n",
      " 50  shop_id_category_avg_item_cnt_lag_3           27727194 non-null  float16\n",
      " 51  shop_id_category_avg_item_cnt_lag_6           27727194 non-null  float16\n",
      " 52  shop_id_category_avg_item_cnt_lag_9           27727194 non-null  float16\n",
      " 53  shop_id_category_avg_item_cnt_lag_12          27727194 non-null  float16\n",
      " 54  shop_id_sub_category_avg_item_cnt_lag_1       27727194 non-null  float16\n",
      " 55  shop_id_sub_category_avg_item_cnt_lag_2       27727194 non-null  float16\n",
      " 56  shop_id_sub_category_avg_item_cnt_lag_3       27727194 non-null  float16\n",
      " 57  shop_id_sub_category_avg_item_cnt_lag_6       27727194 non-null  float16\n",
      " 58  shop_id_sub_category_avg_item_cnt_lag_9       27727194 non-null  float16\n",
      " 59  shop_id_sub_category_avg_item_cnt_lag_12      27727194 non-null  float16\n",
      " 60  shop_id_item_category_id_avg_item_cnt_lag_1   27727194 non-null  float16\n",
      " 61  shop_id_item_category_id_avg_item_cnt_lag_2   27727194 non-null  float16\n",
      " 62  shop_id_item_category_id_avg_item_cnt_lag_3   27727194 non-null  float16\n",
      " 63  shop_id_item_category_id_avg_item_cnt_lag_6   27727194 non-null  float16\n",
      " 64  shop_id_item_category_id_avg_item_cnt_lag_9   27727194 non-null  float16\n",
      " 65  shop_id_item_category_id_avg_item_cnt_lag_12  27727194 non-null  float16\n",
      " 66  city_avg_item_cnt_lag_1                       27727194 non-null  float16\n",
      " 67  city_avg_item_cnt_lag_2                       27727194 non-null  float16\n",
      " 68  city_avg_item_cnt_lag_3                       27727194 non-null  float16\n",
      " 69  city_avg_item_cnt_lag_6                       27727194 non-null  float16\n",
      " 70  city_avg_item_cnt_lag_9                       27727194 non-null  float16\n",
      " 71  city_avg_item_cnt_lag_12                      27727194 non-null  float16\n",
      "dtypes: float16(65), float64(1), int16(3), int8(3)\n",
      "memory usage: 4.0 GB\n"
     ]
    }
   ],
   "source": [
    "real_train.info(verbose=True, show_counts=True)"
   ]
  },
  {
   "cell_type": "code",
   "execution_count": 104,
   "metadata": {},
   "outputs": [
    {
     "name": "stdout",
     "output_type": "stream",
     "text": [
      "<class 'pandas.core.frame.DataFrame'>\n",
      "Int64Index: 214200 entries, 0 to 214199\n",
      "Data columns (total 73 columns):\n",
      " #   Column                                        Non-Null Count   Dtype  \n",
      "---  ------                                        --------------   -----  \n",
      " 0   item_id                                       214200 non-null  int16  \n",
      " 1   shop_id                                       214200 non-null  int8   \n",
      " 2   ID                                            214200 non-null  int32  \n",
      " 3   date_block_num                                214200 non-null  int8   \n",
      " 4   month                                         214200 non-null  int8   \n",
      " 5   year                                          214200 non-null  int16  \n",
      " 6   item_cnt_month                                214200 non-null  int16  \n",
      " 7   item_price                                    214200 non-null  float64\n",
      " 8   item_cnt_month_lag_1                          214158 non-null  float16\n",
      " 9   item_cnt_month_lag_2                          214158 non-null  float16\n",
      " 10  item_cnt_month_lag_3                          214158 non-null  float16\n",
      " 11  item_cnt_month_lag_6                          214158 non-null  float16\n",
      " 12  item_cnt_month_lag_12                         214158 non-null  float16\n",
      " 13  item_id_avg_item_cnt_lag_1                    214158 non-null  float16\n",
      " 14  item_id_avg_item_cnt_lag_2                    214158 non-null  float16\n",
      " 15  item_id_avg_item_cnt_lag_3                    214158 non-null  float16\n",
      " 16  item_id_avg_item_cnt_lag_6                    214158 non-null  float16\n",
      " 17  item_id_avg_item_cnt_lag_9                    214158 non-null  float16\n",
      " 18  item_id_avg_item_cnt_lag_12                   214158 non-null  float16\n",
      " 19  shop_id_avg_item_cnt_lag_1                    214200 non-null  float16\n",
      " 20  shop_id_avg_item_cnt_lag_2                    214200 non-null  float16\n",
      " 21  shop_id_avg_item_cnt_lag_3                    214200 non-null  float16\n",
      " 22  shop_id_avg_item_cnt_lag_6                    214200 non-null  float16\n",
      " 23  shop_id_avg_item_cnt_lag_9                    214200 non-null  float16\n",
      " 24  shop_id_avg_item_cnt_lag_12                   214200 non-null  float16\n",
      " 25  shop_id_item_id_avg_item_cnt_lag_1            214158 non-null  float16\n",
      " 26  shop_id_item_id_avg_item_cnt_lag_2            214158 non-null  float16\n",
      " 27  shop_id_item_id_avg_item_cnt_lag_3            214158 non-null  float16\n",
      " 28  shop_id_item_id_avg_item_cnt_lag_6            214158 non-null  float16\n",
      " 29  shop_id_item_id_avg_item_cnt_lag_9            214158 non-null  float16\n",
      " 30  shop_id_item_id_avg_item_cnt_lag_12           214158 non-null  float16\n",
      " 31  item_category_id_avg_item_cnt_lag_1           214200 non-null  float16\n",
      " 32  item_category_id_avg_item_cnt_lag_2           214200 non-null  float16\n",
      " 33  item_category_id_avg_item_cnt_lag_3           214200 non-null  float16\n",
      " 34  item_category_id_avg_item_cnt_lag_6           214200 non-null  float16\n",
      " 35  item_category_id_avg_item_cnt_lag_9           214200 non-null  float16\n",
      " 36  item_category_id_avg_item_cnt_lag_12          214200 non-null  float16\n",
      " 37  category_avg_item_cnt_lag_1                   214200 non-null  float16\n",
      " 38  category_avg_item_cnt_lag_2                   214200 non-null  float16\n",
      " 39  category_avg_item_cnt_lag_3                   214200 non-null  float16\n",
      " 40  category_avg_item_cnt_lag_6                   214200 non-null  float16\n",
      " 41  category_avg_item_cnt_lag_9                   214200 non-null  float16\n",
      " 42  category_avg_item_cnt_lag_12                  214200 non-null  float16\n",
      " 43  sub_category_avg_item_cnt_lag_1               214200 non-null  float16\n",
      " 44  sub_category_avg_item_cnt_lag_2               214200 non-null  float16\n",
      " 45  sub_category_avg_item_cnt_lag_3               214200 non-null  float16\n",
      " 46  sub_category_avg_item_cnt_lag_6               214200 non-null  float16\n",
      " 47  sub_category_avg_item_cnt_lag_9               214200 non-null  float16\n",
      " 48  sub_category_avg_item_cnt_lag_12              214200 non-null  float16\n",
      " 49  shop_id_category_avg_item_cnt_lag_1           214200 non-null  float16\n",
      " 50  shop_id_category_avg_item_cnt_lag_2           214200 non-null  float16\n",
      " 51  shop_id_category_avg_item_cnt_lag_3           214200 non-null  float16\n",
      " 52  shop_id_category_avg_item_cnt_lag_6           214200 non-null  float16\n",
      " 53  shop_id_category_avg_item_cnt_lag_9           214200 non-null  float16\n",
      " 54  shop_id_category_avg_item_cnt_lag_12          214200 non-null  float16\n",
      " 55  shop_id_sub_category_avg_item_cnt_lag_1       214200 non-null  float16\n",
      " 56  shop_id_sub_category_avg_item_cnt_lag_2       214200 non-null  float16\n",
      " 57  shop_id_sub_category_avg_item_cnt_lag_3       214200 non-null  float16\n",
      " 58  shop_id_sub_category_avg_item_cnt_lag_6       214200 non-null  float16\n",
      " 59  shop_id_sub_category_avg_item_cnt_lag_9       214200 non-null  float16\n",
      " 60  shop_id_sub_category_avg_item_cnt_lag_12      214200 non-null  float16\n",
      " 61  shop_id_item_category_id_avg_item_cnt_lag_1   214200 non-null  float16\n",
      " 62  shop_id_item_category_id_avg_item_cnt_lag_2   214200 non-null  float16\n",
      " 63  shop_id_item_category_id_avg_item_cnt_lag_3   214200 non-null  float16\n",
      " 64  shop_id_item_category_id_avg_item_cnt_lag_6   214200 non-null  float16\n",
      " 65  shop_id_item_category_id_avg_item_cnt_lag_9   214200 non-null  float16\n",
      " 66  shop_id_item_category_id_avg_item_cnt_lag_12  214200 non-null  float16\n",
      " 67  city_avg_item_cnt_lag_1                       214200 non-null  float16\n",
      " 68  city_avg_item_cnt_lag_2                       214200 non-null  float16\n",
      " 69  city_avg_item_cnt_lag_3                       214200 non-null  float16\n",
      " 70  city_avg_item_cnt_lag_6                       214200 non-null  float16\n",
      " 71  city_avg_item_cnt_lag_9                       214200 non-null  float16\n",
      " 72  city_avg_item_cnt_lag_12                      214200 non-null  float16\n",
      "dtypes: float16(65), float64(1), int16(3), int32(1), int8(3)\n",
      "memory usage: 32.5 MB\n"
     ]
    }
   ],
   "source": [
    "real_test.info(verbose=True, show_counts=True)"
   ]
  },
  {
   "cell_type": "code",
   "execution_count": 100,
   "metadata": {},
   "outputs": [],
   "source": [
    "#real_train['before_ny'] = real_train['month'].apply(lambda x: int(x == 12))"
   ]
  },
  {
   "cell_type": "code",
   "execution_count": null,
   "metadata": {},
   "outputs": [],
   "source": []
  },
  {
   "cell_type": "markdown",
   "metadata": {},
   "source": [
    "## LigthGBM"
   ]
  },
  {
   "cell_type": "code",
   "execution_count": 105,
   "metadata": {},
   "outputs": [],
   "source": [
    "y = real_train['item_cnt_month']\n",
    "real_train.drop(columns= ['item_cnt_month'], inplace=True)\n",
    "X = real_train"
   ]
  },
  {
   "cell_type": "code",
   "execution_count": 56,
   "metadata": {},
   "outputs": [],
   "source": [
    "def cross_val_ts(df_x, df_y, date_block_start, model):\n",
    "    scores = []\n",
    "    for i in range(date_block_start, 34):\n",
    "        start = time.time()\n",
    "        \n",
    "        model.fit(df_x[df_x.date_block_num < i], df_y[df_x.date_block_num < i])\n",
    "        y_pred = model.predict(df_x[df_x.date_block_num == i])\n",
    "        score = mean_squared_error(df_y[df_x.date_block_num == i], y_pred, squared=False)\n",
    "        scores.append(score)\n",
    "        end = time.time()\n",
    "        print(f\"{i} date_block_num: score {score}  time: {end - start}\")\n",
    "        \n",
    "    return scores"
   ]
  },
  {
   "cell_type": "code",
   "execution_count": 106,
   "metadata": {},
   "outputs": [],
   "source": [
    "lgbm = LGBMRegressor()"
   ]
  },
  {
   "cell_type": "code",
   "execution_count": null,
   "metadata": {},
   "outputs": [
    {
     "name": "stdout",
     "output_type": "stream",
     "text": [
      "19 date_block_num: score 0.6012681023630141  time: 118.454185962677\n",
      "20 date_block_num: score 1.4531467823003883  time: 161.16838431358337\n",
      "21 date_block_num: score 1.5521796788955946  time: 174.46910667419434\n",
      "22 date_block_num: score 1.5588111371914457  time: 141.95349979400635\n",
      "23 date_block_num: score 1.4493175279412236  time: 145.59723162651062\n",
      "24 date_block_num: score 1.9062718814713022  time: 158.18822360038757\n",
      "25 date_block_num: score 1.216990769635748  time: 172.7915334701538\n",
      "26 date_block_num: score 0.9657911417602675  time: 195.5996551513672\n",
      "27 date_block_num: score 1.9551246204902415  time: 213.81247973442078\n",
      "28 date_block_num: score 1.2486635633260885  time: 239.67383098602295\n",
      "29 date_block_num: score 0.6238702871245668  time: 333.9442615509033\n",
      "30 date_block_num: score 0.4732667308770808  time: 387.345995426178\n"
     ]
    }
   ],
   "source": [
    "%%time\n",
    "\n",
    "\n",
    "\n",
    "cv_score = cross_val_ts(X, y, 19, lgbm)\n"
   ]
  },
  {
   "cell_type": "code",
   "execution_count": 65,
   "metadata": {},
   "outputs": [],
   "source": [
    "block_month_mapping = {x['date_block_num']: f\"{x['month']}-{x['year']}\"  for x in num_to_month.to_dict('records')}"
   ]
  },
  {
   "cell_type": "code",
   "execution_count": 70,
   "metadata": {},
   "outputs": [],
   "source": [
    "months = [block_month_mapping[x] for x in range(19, 34)]"
   ]
  },
  {
   "cell_type": "code",
   "execution_count": 110,
   "metadata": {},
   "outputs": [
    {
     "data": {
      "image/png": "[encoded data removed]",
      "text/plain": [
       "<Figure size 1080x576 with 1 Axes>"
      ]
     },
     "metadata": {
      "needs_background": "light"
     },
     "output_type": "display_data"
    }
   ],
   "source": [
    "plt.figure(figsize=(15,8))\n",
    "plt.plot(months, cv_score)\n",
    "plt.title('LightGBM CV results')\n",
    "plt.savefig('lgbm_cv.png')\n",
    "plt.show()"
   ]
  },
  {
   "cell_type": "code",
   "execution_count": 107,
   "metadata": {},
   "outputs": [
    {
     "data": {
      "text/plain": [
       "LGBMRegressor(boosting_type='gbdt', class_weight=None, colsample_bytree=1.0,\n",
       "              importance_type='split', learning_rate=0.1, max_depth=-1,\n",
       "              min_child_samples=20, min_child_weight=0.001, min_split_gain=0.0,\n",
       "              n_estimators=100, n_jobs=-1, num_leaves=31, objective=None,\n",
       "              random_state=None, reg_alpha=0.0, reg_lambda=0.0, silent='warn',\n",
       "              subsample=1.0, subsample_for_bin=200000, subsample_freq=0)"
      ]
     },
     "execution_count": 107,
     "metadata": {},
     "output_type": "execute_result"
    }
   ],
   "source": [
    "lgbm.fit(X, y)"
   ]
  },
  {
   "cell_type": "code",
   "execution_count": 74,
   "metadata": {},
   "outputs": [
    {
     "data": {
      "text/plain": [
       "1.3095456526244884"
      ]
     },
     "execution_count": 74,
     "metadata": {},
     "output_type": "execute_result"
    }
   ],
   "source": [
    "np.mean(cv_score)"
   ]
  },
  {
   "cell_type": "code",
   "execution_count": 85,
   "metadata": {},
   "outputs": [
    {
     "data": {
      "image/png": "[encoded data removed]",
      "text/plain": [
       "<Figure size 1440x720 with 1 Axes>"
      ]
     },
     "metadata": {
      "needs_background": "light"
     },
     "output_type": "display_data"
    }
   ],
   "source": [
    "feature_imp = pd.DataFrame(sorted(zip(lgbm.feature_importances_,X.columns)), columns=['Value','Feature'])\n",
    "\n",
    "plt.figure(figsize=(20, 10))\n",
    "sns.barplot(x=\"Value\", y=\"Feature\", data=feature_imp.sort_values(by=\"Value\", ascending=False))\n",
    "plt.title('LightGBM Features (avg over folds)')\n",
    "plt.tight_layout()\n",
    "plt.savefig('lgbm_importances-lightgbm.png')\n",
    "plt.show()"
   ]
  },
  {
   "cell_type": "markdown",
   "metadata": {},
   "source": [
    "## Random forest from LigthGBM"
   ]
  },
  {
   "cell_type": "code",
   "execution_count": 122,
   "metadata": {},
   "outputs": [],
   "source": [
    "rf = LGBMRegressor(boosting_type=\"rf\",\n",
    "                  num_leaves=165,\n",
    "                         colsample_bytree=.5,\n",
    "                         n_estimators=400,\n",
    "                         min_child_weight=5,\n",
    "                         min_child_samples=10,\n",
    "                         subsample=.632, # Standard RF bagging fraction\n",
    "                         subsample_freq=1,\n",
    "                         min_split_gain=0)"
   ]
  },
  {
   "cell_type": "code",
   "execution_count": 81,
   "metadata": {},
   "outputs": [
    {
     "name": "stdout",
     "output_type": "stream",
     "text": [
      "19 date_block_num: score 0.634571408498895  time: 528.4017815589905\n",
      "20 date_block_num: score 1.450466178345893  time: 596.4778120517731\n",
      "21 date_block_num: score 1.5138607483543216  time: 734.2443838119507\n",
      "22 date_block_num: score 1.524072875760778  time: 801.1323359012604\n",
      "23 date_block_num: score 1.541850290929419  time: 875.0966079235077\n",
      "24 date_block_num: score 1.5752675600804646  time: 960.8822152614594\n",
      "25 date_block_num: score 1.2700719704861068  time: 972.0055384635925\n",
      "26 date_block_num: score 0.9551818788603137  time: 985.9307310581207\n",
      "27 date_block_num: score 1.8999906717488533  time: 31916.681037902832\n",
      "28 date_block_num: score 1.2602446723760188  time: 1341.2026681900024\n",
      "29 date_block_num: score 0.5841130924150757  time: 1427.2276158332825\n",
      "30 date_block_num: score 0.4268005730736011  time: 1600.6581585407257\n",
      "31 date_block_num: score 0.5669429349090397  time: 1832.8468556404114\n",
      "32 date_block_num: score 2.6185731242821095  time: 1749.4517760276794\n",
      "33 date_block_num: score 1.059866722167224  time: 1688.158799648285\n",
      "Wall time: 13h 20min 10s\n"
     ]
    }
   ],
   "source": [
    "%%time\n",
    "\n",
    "\n",
    "\n",
    "cv_score_rf = cross_val_ts(X, y, 19, rf)"
   ]
  },
  {
   "cell_type": "code",
   "execution_count": 111,
   "metadata": {},
   "outputs": [
    {
     "data": {
      "image/png": "[encoded data removed]",
      "text/plain": [
       "<Figure size 1080x576 with 1 Axes>"
      ]
     },
     "metadata": {
      "needs_background": "light"
     },
     "output_type": "display_data"
    }
   ],
   "source": [
    "plt.figure(figsize=(15,8))\n",
    "plt.plot(months, cv_score_rf)\n",
    "plt.title(\"Random Forest CV results\")\n",
    "plt.savefig('rf_cv.png')\n",
    "plt.show()"
   ]
  },
  {
   "cell_type": "code",
   "execution_count": 83,
   "metadata": {},
   "outputs": [
    {
     "data": {
      "text/plain": [
       "1.2587916468192075"
      ]
     },
     "execution_count": 83,
     "metadata": {},
     "output_type": "execute_result"
    }
   ],
   "source": [
    "np.mean(cv_score_rf)"
   ]
  },
  {
   "cell_type": "code",
   "execution_count": null,
   "metadata": {},
   "outputs": [],
   "source": [
    "rf.fit(X, y)"
   ]
  },
  {
   "cell_type": "code",
   "execution_count": 87,
   "metadata": {},
   "outputs": [
    {
     "data": {
      "image/png": "[encoded data removed]",
      "text/plain": [
       "<Figure size 1440x720 with 1 Axes>"
      ]
     },
     "metadata": {
      "needs_background": "light"
     },
     "output_type": "display_data"
    }
   ],
   "source": [
    "feature_imp_rf = pd.DataFrame(sorted(zip(rf.feature_importances_,X.columns)), columns=['Value','Feature'])\n",
    "\n",
    "plt.figure(figsize=(20, 10))\n",
    "sns.barplot(x=\"Value\", y=\"Feature\", data=feature_imp_rf.sort_values(by=\"Value\", ascending=False))\n",
    "plt.title('LightGBM Features for RF ')\n",
    "plt.tight_layout()\n",
    "plt.savefig('lgbm_importances-rf.png')\n",
    "plt.show()"
   ]
  },
  {
   "cell_type": "markdown",
   "metadata": {},
   "source": [
    "## DART"
   ]
  },
  {
   "cell_type": "code",
   "execution_count": null,
   "metadata": {},
   "outputs": [],
   "source": [
    "dart = lgb.LGBMClassifier(boosting_type=\"dart\",\n",
    "                         n_jobs=3)"
   ]
  },
  {
   "cell_type": "code",
   "execution_count": null,
   "metadata": {},
   "outputs": [],
   "source": [
    "%%time\n",
    "\n",
    "\n",
    "\n",
    "cv_score_dart = cross_val_ts(X, y, 19, dart)"
   ]
  },
  {
   "cell_type": "code",
   "execution_count": null,
   "metadata": {},
   "outputs": [],
   "source": []
  },
  {
   "cell_type": "markdown",
   "metadata": {},
   "source": [
    "## GOSS"
   ]
  },
  {
   "cell_type": "code",
   "execution_count": null,
   "metadata": {},
   "outputs": [],
   "source": [
    "goss = lgb.LGBMClassifier(boosting_type=\"goss\",\n",
    "                         n_jobs=3)"
   ]
  },
  {
   "cell_type": "code",
   "execution_count": null,
   "metadata": {},
   "outputs": [],
   "source": [
    "%%time\n",
    "\n",
    "\n",
    "\n",
    "cv_score_goss = cross_val_ts(X, y, 19, goss)"
   ]
  },
  {
   "cell_type": "code",
   "execution_count": null,
   "metadata": {},
   "outputs": [],
   "source": []
  },
  {
   "cell_type": "markdown",
   "metadata": {},
   "source": [
    "## Boruta"
   ]
  },
  {
   "cell_type": "code",
   "execution_count": 108,
   "metadata": {},
   "outputs": [],
   "source": [
    "from boruta import BorutaPy"
   ]
  },
  {
   "cell_type": "code",
   "execution_count": 109,
   "metadata": {},
   "outputs": [
    {
     "ename": "MemoryError",
     "evalue": "Unable to allocate 14.7 GiB for an array with shape (71, 27727194) and data type float64",
     "output_type": "error",
     "traceback": [
      "\u001b[1;31m---------------------------------------------------------------------------\u001b[0m",
      "\u001b[1;31mMemoryError\u001b[0m                               Traceback (most recent call last)",
      "\u001b[1;32m~\\AppData\\Local\\Temp\\ipykernel_7304\\1458048277.py\u001b[0m in \u001b[0;36m<module>\u001b[1;34m\u001b[0m\n\u001b[0;32m      1\u001b[0m \u001b[0mtrans\u001b[0m \u001b[1;33m=\u001b[0m \u001b[0mBorutaPy\u001b[0m\u001b[1;33m(\u001b[0m\u001b[0mlgbm\u001b[0m\u001b[1;33m,\u001b[0m \u001b[0mrandom_state\u001b[0m\u001b[1;33m=\u001b[0m\u001b[1;36m42\u001b[0m\u001b[1;33m,\u001b[0m \u001b[0mverbose\u001b[0m\u001b[1;33m=\u001b[0m\u001b[1;36m2\u001b[0m\u001b[1;33m)\u001b[0m\u001b[1;33m\u001b[0m\u001b[1;33m\u001b[0m\u001b[0m\n\u001b[1;32m----> 2\u001b[1;33m \u001b[0msel\u001b[0m \u001b[1;33m=\u001b[0m \u001b[0mtrans\u001b[0m\u001b[1;33m.\u001b[0m\u001b[0mfit_transform\u001b[0m\u001b[1;33m(\u001b[0m\u001b[0mX\u001b[0m\u001b[1;33m.\u001b[0m\u001b[0mvalues\u001b[0m\u001b[1;33m,\u001b[0m \u001b[0my\u001b[0m\u001b[1;33m.\u001b[0m\u001b[0mvalues\u001b[0m\u001b[1;33m)\u001b[0m\u001b[1;33m\u001b[0m\u001b[1;33m\u001b[0m\u001b[0m\n\u001b[0m",
      "\u001b[1;32m~\\Miniconda3\\envs\\wpm_matching_py373\\lib\\site-packages\\boruta\\boruta_py.py\u001b[0m in \u001b[0;36mfit_transform\u001b[1;34m(self, X, y, weak)\u001b[0m\n\u001b[0;32m    244\u001b[0m         \"\"\"\n\u001b[0;32m    245\u001b[0m \u001b[1;33m\u001b[0m\u001b[0m\n\u001b[1;32m--> 246\u001b[1;33m         \u001b[0mself\u001b[0m\u001b[1;33m.\u001b[0m\u001b[0m_fit\u001b[0m\u001b[1;33m(\u001b[0m\u001b[0mX\u001b[0m\u001b[1;33m,\u001b[0m \u001b[0my\u001b[0m\u001b[1;33m)\u001b[0m\u001b[1;33m\u001b[0m\u001b[1;33m\u001b[0m\u001b[0m\n\u001b[0m\u001b[0;32m    247\u001b[0m         \u001b[1;32mreturn\u001b[0m \u001b[0mself\u001b[0m\u001b[1;33m.\u001b[0m\u001b[0m_transform\u001b[0m\u001b[1;33m(\u001b[0m\u001b[0mX\u001b[0m\u001b[1;33m,\u001b[0m \u001b[0mweak\u001b[0m\u001b[1;33m)\u001b[0m\u001b[1;33m\u001b[0m\u001b[1;33m\u001b[0m\u001b[0m\n\u001b[0;32m    248\u001b[0m \u001b[1;33m\u001b[0m\u001b[0m\n",
      "\u001b[1;32m~\\Miniconda3\\envs\\wpm_matching_py373\\lib\\site-packages\\boruta\\boruta_py.py\u001b[0m in \u001b[0;36m_fit\u001b[1;34m(self, X, y)\u001b[0m\n\u001b[0;32m    283\u001b[0m \u001b[1;33m\u001b[0m\u001b[0m\n\u001b[0;32m    284\u001b[0m             \u001b[1;31m# add shadow attributes, shuffle them and train estimator, get imps\u001b[0m\u001b[1;33m\u001b[0m\u001b[1;33m\u001b[0m\u001b[1;33m\u001b[0m\u001b[0m\n\u001b[1;32m--> 285\u001b[1;33m             \u001b[0mcur_imp\u001b[0m \u001b[1;33m=\u001b[0m \u001b[0mself\u001b[0m\u001b[1;33m.\u001b[0m\u001b[0m_add_shadows_get_imps\u001b[0m\u001b[1;33m(\u001b[0m\u001b[0mX\u001b[0m\u001b[1;33m,\u001b[0m \u001b[0my\u001b[0m\u001b[1;33m,\u001b[0m \u001b[0mdec_reg\u001b[0m\u001b[1;33m)\u001b[0m\u001b[1;33m\u001b[0m\u001b[1;33m\u001b[0m\u001b[0m\n\u001b[0m\u001b[0;32m    286\u001b[0m \u001b[1;33m\u001b[0m\u001b[0m\n\u001b[0;32m    287\u001b[0m             \u001b[1;31m# get the threshold of shadow importances we will use for rejection\u001b[0m\u001b[1;33m\u001b[0m\u001b[1;33m\u001b[0m\u001b[1;33m\u001b[0m\u001b[0m\n",
      "\u001b[1;32m~\\Miniconda3\\envs\\wpm_matching_py373\\lib\\site-packages\\boruta\\boruta_py.py\u001b[0m in \u001b[0;36m_add_shadows_get_imps\u001b[1;34m(self, X, y, dec_reg)\u001b[0m\n\u001b[0;32m    408\u001b[0m             \u001b[0mx_sha\u001b[0m \u001b[1;33m=\u001b[0m \u001b[0mnp\u001b[0m\u001b[1;33m.\u001b[0m\u001b[0mhstack\u001b[0m\u001b[1;33m(\u001b[0m\u001b[1;33m(\u001b[0m\u001b[0mx_sha\u001b[0m\u001b[1;33m,\u001b[0m \u001b[0mx_sha\u001b[0m\u001b[1;33m)\u001b[0m\u001b[1;33m)\u001b[0m\u001b[1;33m\u001b[0m\u001b[1;33m\u001b[0m\u001b[0m\n\u001b[0;32m    409\u001b[0m         \u001b[1;31m# shuffle xSha\u001b[0m\u001b[1;33m\u001b[0m\u001b[1;33m\u001b[0m\u001b[1;33m\u001b[0m\u001b[0m\n\u001b[1;32m--> 410\u001b[1;33m         \u001b[0mx_sha\u001b[0m \u001b[1;33m=\u001b[0m \u001b[0mnp\u001b[0m\u001b[1;33m.\u001b[0m\u001b[0mapply_along_axis\u001b[0m\u001b[1;33m(\u001b[0m\u001b[0mself\u001b[0m\u001b[1;33m.\u001b[0m\u001b[0m_get_shuffle\u001b[0m\u001b[1;33m,\u001b[0m \u001b[1;36m0\u001b[0m\u001b[1;33m,\u001b[0m \u001b[0mx_sha\u001b[0m\u001b[1;33m)\u001b[0m\u001b[1;33m\u001b[0m\u001b[1;33m\u001b[0m\u001b[0m\n\u001b[0m\u001b[0;32m    411\u001b[0m         \u001b[1;31m# get importance of the merged matrix\u001b[0m\u001b[1;33m\u001b[0m\u001b[1;33m\u001b[0m\u001b[1;33m\u001b[0m\u001b[0m\n\u001b[0;32m    412\u001b[0m         \u001b[0mimp\u001b[0m \u001b[1;33m=\u001b[0m \u001b[0mself\u001b[0m\u001b[1;33m.\u001b[0m\u001b[0m_get_imp\u001b[0m\u001b[1;33m(\u001b[0m\u001b[0mnp\u001b[0m\u001b[1;33m.\u001b[0m\u001b[0mhstack\u001b[0m\u001b[1;33m(\u001b[0m\u001b[1;33m(\u001b[0m\u001b[0mx_cur\u001b[0m\u001b[1;33m,\u001b[0m \u001b[0mx_sha\u001b[0m\u001b[1;33m)\u001b[0m\u001b[1;33m)\u001b[0m\u001b[1;33m,\u001b[0m \u001b[0my\u001b[0m\u001b[1;33m)\u001b[0m\u001b[1;33m\u001b[0m\u001b[1;33m\u001b[0m\u001b[0m\n",
      "\u001b[1;32m<__array_function__ internals>\u001b[0m in \u001b[0;36mapply_along_axis\u001b[1;34m(*args, **kwargs)\u001b[0m\n",
      "\u001b[1;32m~\\Miniconda3\\envs\\wpm_matching_py373\\lib\\site-packages\\numpy\\lib\\shape_base.py\u001b[0m in \u001b[0;36mapply_along_axis\u001b[1;34m(func1d, axis, arr, *args, **kwargs)\u001b[0m\n\u001b[0;32m    383\u001b[0m     \u001b[1;31m# laid out so that each write is contiguous.\u001b[0m\u001b[1;33m\u001b[0m\u001b[1;33m\u001b[0m\u001b[1;33m\u001b[0m\u001b[0m\n\u001b[0;32m    384\u001b[0m     \u001b[1;31m# for a tuple index inds, buff[inds] = func1d(inarr_view[inds])\u001b[0m\u001b[1;33m\u001b[0m\u001b[1;33m\u001b[0m\u001b[1;33m\u001b[0m\u001b[0m\n\u001b[1;32m--> 385\u001b[1;33m     \u001b[0mbuff\u001b[0m \u001b[1;33m=\u001b[0m \u001b[0mzeros\u001b[0m\u001b[1;33m(\u001b[0m\u001b[0minarr_view\u001b[0m\u001b[1;33m.\u001b[0m\u001b[0mshape\u001b[0m\u001b[1;33m[\u001b[0m\u001b[1;33m:\u001b[0m\u001b[1;33m-\u001b[0m\u001b[1;36m1\u001b[0m\u001b[1;33m]\u001b[0m \u001b[1;33m+\u001b[0m \u001b[0mres\u001b[0m\u001b[1;33m.\u001b[0m\u001b[0mshape\u001b[0m\u001b[1;33m,\u001b[0m \u001b[0mres\u001b[0m\u001b[1;33m.\u001b[0m\u001b[0mdtype\u001b[0m\u001b[1;33m)\u001b[0m\u001b[1;33m\u001b[0m\u001b[1;33m\u001b[0m\u001b[0m\n\u001b[0m\u001b[0;32m    386\u001b[0m \u001b[1;33m\u001b[0m\u001b[0m\n\u001b[0;32m    387\u001b[0m     \u001b[1;31m# permutation of axes such that out = buff.transpose(buff_permute)\u001b[0m\u001b[1;33m\u001b[0m\u001b[1;33m\u001b[0m\u001b[1;33m\u001b[0m\u001b[0m\n",
      "\u001b[1;31mMemoryError\u001b[0m: Unable to allocate 14.7 GiB for an array with shape (71, 27727194) and data type float64"
     ]
    }
   ],
   "source": [
    "trans = BorutaPy(lgbm, random_state=42, verbose=2)\n",
    "sel = trans.fit_transform(X.values, y.values)"
   ]
  },
  {
   "cell_type": "code",
   "execution_count": null,
   "metadata": {},
   "outputs": [],
   "source": []
  },
  {
   "cell_type": "code",
   "execution_count": null,
   "metadata": {},
   "outputs": [],
   "source": []
  },
  {
   "cell_type": "markdown",
   "metadata": {},
   "source": [
    "## Predict for Kaggle"
   ]
  },
  {
   "cell_type": "code",
   "execution_count": 108,
   "metadata": {},
   "outputs": [
    {
     "data": {
      "text/html": [
       "<div>\n",
       "<style scoped>\n",
       "    .dataframe tbody tr th:only-of-type {\n",
       "        vertical-align: middle;\n",
       "    }\n",
       "\n",
       "    .dataframe tbody tr th {\n",
       "        vertical-align: top;\n",
       "    }\n",
       "\n",
       "    .dataframe thead th {\n",
       "        text-align: right;\n",
       "    }\n",
       "</style>\n",
       "<table border=\"1\" class=\"dataframe\">\n",
       "  <thead>\n",
       "    <tr style=\"text-align: right;\">\n",
       "      <th></th>\n",
       "      <th>item_id</th>\n",
       "      <th>shop_id</th>\n",
       "      <th>ID</th>\n",
       "      <th>date_block_num</th>\n",
       "      <th>month</th>\n",
       "      <th>year</th>\n",
       "      <th>item_cnt_month</th>\n",
       "      <th>item_price</th>\n",
       "      <th>item_cnt_month_lag_1</th>\n",
       "      <th>item_cnt_month_lag_2</th>\n",
       "      <th>...</th>\n",
       "      <th>shop_id_item_category_id_avg_item_cnt_lag_3</th>\n",
       "      <th>shop_id_item_category_id_avg_item_cnt_lag_6</th>\n",
       "      <th>shop_id_item_category_id_avg_item_cnt_lag_9</th>\n",
       "      <th>shop_id_item_category_id_avg_item_cnt_lag_12</th>\n",
       "      <th>city_avg_item_cnt_lag_1</th>\n",
       "      <th>city_avg_item_cnt_lag_2</th>\n",
       "      <th>city_avg_item_cnt_lag_3</th>\n",
       "      <th>city_avg_item_cnt_lag_6</th>\n",
       "      <th>city_avg_item_cnt_lag_9</th>\n",
       "      <th>city_avg_item_cnt_lag_12</th>\n",
       "    </tr>\n",
       "  </thead>\n",
       "  <tbody>\n",
       "    <tr>\n",
       "      <th>0</th>\n",
       "      <td>5037</td>\n",
       "      <td>5</td>\n",
       "      <td>0</td>\n",
       "      <td>34</td>\n",
       "      <td>11</td>\n",
       "      <td>2015</td>\n",
       "      <td>0</td>\n",
       "      <td>749.500000</td>\n",
       "      <td>0.0</td>\n",
       "      <td>1.0</td>\n",
       "      <td>...</td>\n",
       "      <td>0.750000</td>\n",
       "      <td>0.604980</td>\n",
       "      <td>0.518066</td>\n",
       "      <td>0.545410</td>\n",
       "      <td>0.202759</td>\n",
       "      <td>0.204102</td>\n",
       "      <td>0.215820</td>\n",
       "      <td>0.193726</td>\n",
       "      <td>0.186157</td>\n",
       "      <td>0.200317</td>\n",
       "    </tr>\n",
       "    <tr>\n",
       "      <th>1</th>\n",
       "      <td>5037</td>\n",
       "      <td>57</td>\n",
       "      <td>137700</td>\n",
       "      <td>34</td>\n",
       "      <td>11</td>\n",
       "      <td>2015</td>\n",
       "      <td>0</td>\n",
       "      <td>1499.000000</td>\n",
       "      <td>1.0</td>\n",
       "      <td>0.0</td>\n",
       "      <td>...</td>\n",
       "      <td>0.530762</td>\n",
       "      <td>0.498779</td>\n",
       "      <td>0.536621</td>\n",
       "      <td>0.681152</td>\n",
       "      <td>0.359131</td>\n",
       "      <td>0.347412</td>\n",
       "      <td>0.365723</td>\n",
       "      <td>0.344482</td>\n",
       "      <td>0.359131</td>\n",
       "      <td>0.410156</td>\n",
       "    </tr>\n",
       "    <tr>\n",
       "      <th>2</th>\n",
       "      <td>5037</td>\n",
       "      <td>45</td>\n",
       "      <td>209100</td>\n",
       "      <td>34</td>\n",
       "      <td>11</td>\n",
       "      <td>2015</td>\n",
       "      <td>0</td>\n",
       "      <td>1499.000000</td>\n",
       "      <td>2.0</td>\n",
       "      <td>1.0</td>\n",
       "      <td>...</td>\n",
       "      <td>0.264404</td>\n",
       "      <td>0.221436</td>\n",
       "      <td>0.211914</td>\n",
       "      <td>0.271973</td>\n",
       "      <td>0.141113</td>\n",
       "      <td>0.136841</td>\n",
       "      <td>0.135620</td>\n",
       "      <td>0.125854</td>\n",
       "      <td>0.128296</td>\n",
       "      <td>0.141602</td>\n",
       "    </tr>\n",
       "    <tr>\n",
       "      <th>3</th>\n",
       "      <td>5037</td>\n",
       "      <td>3</td>\n",
       "      <td>15300</td>\n",
       "      <td>34</td>\n",
       "      <td>11</td>\n",
       "      <td>2015</td>\n",
       "      <td>0</td>\n",
       "      <td>1365.666667</td>\n",
       "      <td>0.0</td>\n",
       "      <td>0.0</td>\n",
       "      <td>...</td>\n",
       "      <td>0.409424</td>\n",
       "      <td>0.403564</td>\n",
       "      <td>0.382568</td>\n",
       "      <td>0.442383</td>\n",
       "      <td>0.119263</td>\n",
       "      <td>0.123657</td>\n",
       "      <td>0.123535</td>\n",
       "      <td>0.119141</td>\n",
       "      <td>0.120056</td>\n",
       "      <td>0.132324</td>\n",
       "    </tr>\n",
       "    <tr>\n",
       "      <th>4</th>\n",
       "      <td>5037</td>\n",
       "      <td>48</td>\n",
       "      <td>132600</td>\n",
       "      <td>34</td>\n",
       "      <td>11</td>\n",
       "      <td>2015</td>\n",
       "      <td>0</td>\n",
       "      <td>749.000000</td>\n",
       "      <td>0.0</td>\n",
       "      <td>1.0</td>\n",
       "      <td>...</td>\n",
       "      <td>0.747559</td>\n",
       "      <td>0.640625</td>\n",
       "      <td>0.571289</td>\n",
       "      <td>0.616699</td>\n",
       "      <td>0.216309</td>\n",
       "      <td>0.213989</td>\n",
       "      <td>0.224731</td>\n",
       "      <td>0.206909</td>\n",
       "      <td>0.199097</td>\n",
       "      <td>0.218750</td>\n",
       "    </tr>\n",
       "  </tbody>\n",
       "</table>\n",
       "<p>5 rows × 73 columns</p>\n",
       "</div>"
      ],
      "text/plain": [
       "   item_id  shop_id      ID  date_block_num  month  year  item_cnt_month  \\\n",
       "0     5037        5       0              34     11  2015               0   \n",
       "1     5037       57  137700              34     11  2015               0   \n",
       "2     5037       45  209100              34     11  2015               0   \n",
       "3     5037        3   15300              34     11  2015               0   \n",
       "4     5037       48  132600              34     11  2015               0   \n",
       "\n",
       "    item_price  item_cnt_month_lag_1  item_cnt_month_lag_2  ...  \\\n",
       "0   749.500000                   0.0                   1.0  ...   \n",
       "1  1499.000000                   1.0                   0.0  ...   \n",
       "2  1499.000000                   2.0                   1.0  ...   \n",
       "3  1365.666667                   0.0                   0.0  ...   \n",
       "4   749.000000                   0.0                   1.0  ...   \n",
       "\n",
       "   shop_id_item_category_id_avg_item_cnt_lag_3  \\\n",
       "0                                     0.750000   \n",
       "1                                     0.530762   \n",
       "2                                     0.264404   \n",
       "3                                     0.409424   \n",
       "4                                     0.747559   \n",
       "\n",
       "   shop_id_item_category_id_avg_item_cnt_lag_6  \\\n",
       "0                                     0.604980   \n",
       "1                                     0.498779   \n",
       "2                                     0.221436   \n",
       "3                                     0.403564   \n",
       "4                                     0.640625   \n",
       "\n",
       "   shop_id_item_category_id_avg_item_cnt_lag_9  \\\n",
       "0                                     0.518066   \n",
       "1                                     0.536621   \n",
       "2                                     0.211914   \n",
       "3                                     0.382568   \n",
       "4                                     0.571289   \n",
       "\n",
       "   shop_id_item_category_id_avg_item_cnt_lag_12  city_avg_item_cnt_lag_1  \\\n",
       "0                                      0.545410                 0.202759   \n",
       "1                                      0.681152                 0.359131   \n",
       "2                                      0.271973                 0.141113   \n",
       "3                                      0.442383                 0.119263   \n",
       "4                                      0.616699                 0.216309   \n",
       "\n",
       "   city_avg_item_cnt_lag_2  city_avg_item_cnt_lag_3  city_avg_item_cnt_lag_6  \\\n",
       "0                 0.204102                 0.215820                 0.193726   \n",
       "1                 0.347412                 0.365723                 0.344482   \n",
       "2                 0.136841                 0.135620                 0.125854   \n",
       "3                 0.123657                 0.123535                 0.119141   \n",
       "4                 0.213989                 0.224731                 0.206909   \n",
       "\n",
       "   city_avg_item_cnt_lag_9  city_avg_item_cnt_lag_12  \n",
       "0                 0.186157                  0.200317  \n",
       "1                 0.359131                  0.410156  \n",
       "2                 0.128296                  0.141602  \n",
       "3                 0.120056                  0.132324  \n",
       "4                 0.199097                  0.218750  \n",
       "\n",
       "[5 rows x 73 columns]"
      ]
     },
     "execution_count": 108,
     "metadata": {},
     "output_type": "execute_result"
    }
   ],
   "source": [
    "real_test.head()"
   ]
  },
  {
   "cell_type": "code",
   "execution_count": 109,
   "metadata": {},
   "outputs": [],
   "source": [
    "real_test.drop(columns=['item_cnt_month'], inplace=True)"
   ]
  },
  {
   "cell_type": "code",
   "execution_count": 117,
   "metadata": {},
   "outputs": [],
   "source": [
    "id_mapping = real_test[['ID', 'shop_id', 'item_id']].drop_duplicates()"
   ]
  },
  {
   "cell_type": "code",
   "execution_count": 111,
   "metadata": {},
   "outputs": [],
   "source": [
    "y_pred = lgbm.predict(real_test.drop(columns=['ID']))"
   ]
  },
  {
   "cell_type": "code",
   "execution_count": 112,
   "metadata": {},
   "outputs": [],
   "source": [
    "result_df = real_test[['shop_id', 'item_id']]"
   ]
  },
  {
   "cell_type": "code",
   "execution_count": 113,
   "metadata": {},
   "outputs": [],
   "source": [
    "result_df['item_cnt_month'] = y_pred"
   ]
  },
  {
   "cell_type": "code",
   "execution_count": 114,
   "metadata": {},
   "outputs": [
    {
     "data": {
      "text/html": [
       "<div>\n",
       "<style scoped>\n",
       "    .dataframe tbody tr th:only-of-type {\n",
       "        vertical-align: middle;\n",
       "    }\n",
       "\n",
       "    .dataframe tbody tr th {\n",
       "        vertical-align: top;\n",
       "    }\n",
       "\n",
       "    .dataframe thead th {\n",
       "        text-align: right;\n",
       "    }\n",
       "</style>\n",
       "<table border=\"1\" class=\"dataframe\">\n",
       "  <thead>\n",
       "    <tr style=\"text-align: right;\">\n",
       "      <th></th>\n",
       "      <th>shop_id</th>\n",
       "      <th>item_id</th>\n",
       "      <th>item_cnt_month</th>\n",
       "    </tr>\n",
       "  </thead>\n",
       "  <tbody>\n",
       "    <tr>\n",
       "      <th>0</th>\n",
       "      <td>5</td>\n",
       "      <td>5037</td>\n",
       "      <td>0.879605</td>\n",
       "    </tr>\n",
       "    <tr>\n",
       "      <th>1</th>\n",
       "      <td>57</td>\n",
       "      <td>5037</td>\n",
       "      <td>1.063415</td>\n",
       "    </tr>\n",
       "    <tr>\n",
       "      <th>2</th>\n",
       "      <td>45</td>\n",
       "      <td>5037</td>\n",
       "      <td>0.864870</td>\n",
       "    </tr>\n",
       "    <tr>\n",
       "      <th>3</th>\n",
       "      <td>3</td>\n",
       "      <td>5037</td>\n",
       "      <td>0.470465</td>\n",
       "    </tr>\n",
       "    <tr>\n",
       "      <th>4</th>\n",
       "      <td>48</td>\n",
       "      <td>5037</td>\n",
       "      <td>1.070212</td>\n",
       "    </tr>\n",
       "  </tbody>\n",
       "</table>\n",
       "</div>"
      ],
      "text/plain": [
       "   shop_id  item_id  item_cnt_month\n",
       "0        5     5037        0.879605\n",
       "1       57     5037        1.063415\n",
       "2       45     5037        0.864870\n",
       "3        3     5037        0.470465\n",
       "4       48     5037        1.070212"
      ]
     },
     "execution_count": 114,
     "metadata": {},
     "output_type": "execute_result"
    }
   ],
   "source": [
    "result_df.head()"
   ]
  },
  {
   "cell_type": "code",
   "execution_count": 118,
   "metadata": {},
   "outputs": [],
   "source": [
    "final_result = id_mapping.merge(result_df, on=['shop_id', 'item_id'], how='left')"
   ]
  },
  {
   "cell_type": "code",
   "execution_count": 119,
   "metadata": {},
   "outputs": [
    {
     "name": "stdout",
     "output_type": "stream",
     "text": [
      "<class 'pandas.core.frame.DataFrame'>\n",
      "Int64Index: 214200 entries, 0 to 214199\n",
      "Data columns (total 4 columns):\n",
      " #   Column          Non-Null Count   Dtype  \n",
      "---  ------          --------------   -----  \n",
      " 0   ID              214200 non-null  int32  \n",
      " 1   shop_id         214200 non-null  int8   \n",
      " 2   item_id         214200 non-null  int16  \n",
      " 3   item_cnt_month  214200 non-null  float64\n",
      "dtypes: float64(1), int16(1), int32(1), int8(1)\n",
      "memory usage: 4.7 MB\n"
     ]
    }
   ],
   "source": [
    "final_result.info(verbose=True, show_counts=True)"
   ]
  },
  {
   "cell_type": "code",
   "execution_count": 120,
   "metadata": {},
   "outputs": [],
   "source": [
    "def save_prediction(predicted_df, filename):\n",
    "    subm = pd.read_csv('sample_submission.csv.zip')[['ID']]\n",
    "    res = subm.merge(predicted_df, on='ID', how='left')\n",
    "    res = res.drop(columns=['item_id', 'shop_id'])\n",
    "    res.to_csv(filename, index=False)\n",
    "    return res"
   ]
  },
  {
   "cell_type": "code",
   "execution_count": 121,
   "metadata": {},
   "outputs": [
    {
     "data": {
      "text/html": [
       "<div>\n",
       "<style scoped>\n",
       "    .dataframe tbody tr th:only-of-type {\n",
       "        vertical-align: middle;\n",
       "    }\n",
       "\n",
       "    .dataframe tbody tr th {\n",
       "        vertical-align: top;\n",
       "    }\n",
       "\n",
       "    .dataframe thead th {\n",
       "        text-align: right;\n",
       "    }\n",
       "</style>\n",
       "<table border=\"1\" class=\"dataframe\">\n",
       "  <thead>\n",
       "    <tr style=\"text-align: right;\">\n",
       "      <th></th>\n",
       "      <th>ID</th>\n",
       "      <th>item_cnt_month</th>\n",
       "    </tr>\n",
       "  </thead>\n",
       "  <tbody>\n",
       "    <tr>\n",
       "      <th>0</th>\n",
       "      <td>0</td>\n",
       "      <td>0.879605</td>\n",
       "    </tr>\n",
       "    <tr>\n",
       "      <th>1</th>\n",
       "      <td>1</td>\n",
       "      <td>0.031695</td>\n",
       "    </tr>\n",
       "    <tr>\n",
       "      <th>2</th>\n",
       "      <td>2</td>\n",
       "      <td>1.406755</td>\n",
       "    </tr>\n",
       "    <tr>\n",
       "      <th>3</th>\n",
       "      <td>3</td>\n",
       "      <td>0.697424</td>\n",
       "    </tr>\n",
       "    <tr>\n",
       "      <th>4</th>\n",
       "      <td>4</td>\n",
       "      <td>0.023359</td>\n",
       "    </tr>\n",
       "    <tr>\n",
       "      <th>...</th>\n",
       "      <td>...</td>\n",
       "      <td>...</td>\n",
       "    </tr>\n",
       "    <tr>\n",
       "      <th>214195</th>\n",
       "      <td>214195</td>\n",
       "      <td>0.139103</td>\n",
       "    </tr>\n",
       "    <tr>\n",
       "      <th>214196</th>\n",
       "      <td>214196</td>\n",
       "      <td>0.008796</td>\n",
       "    </tr>\n",
       "    <tr>\n",
       "      <th>214197</th>\n",
       "      <td>214197</td>\n",
       "      <td>0.109958</td>\n",
       "    </tr>\n",
       "    <tr>\n",
       "      <th>214198</th>\n",
       "      <td>214198</td>\n",
       "      <td>0.023625</td>\n",
       "    </tr>\n",
       "    <tr>\n",
       "      <th>214199</th>\n",
       "      <td>214199</td>\n",
       "      <td>0.051823</td>\n",
       "    </tr>\n",
       "  </tbody>\n",
       "</table>\n",
       "<p>214200 rows × 2 columns</p>\n",
       "</div>"
      ],
      "text/plain": [
       "            ID  item_cnt_month\n",
       "0            0        0.879605\n",
       "1            1        0.031695\n",
       "2            2        1.406755\n",
       "3            3        0.697424\n",
       "4            4        0.023359\n",
       "...        ...             ...\n",
       "214195  214195        0.139103\n",
       "214196  214196        0.008796\n",
       "214197  214197        0.109958\n",
       "214198  214198        0.023625\n",
       "214199  214199        0.051823\n",
       "\n",
       "[214200 rows x 2 columns]"
      ]
     },
     "execution_count": 121,
     "metadata": {},
     "output_type": "execute_result"
    }
   ],
   "source": [
    "save_prediction(final_result, 'lgbm_1.csv')"
   ]
  },
  {
   "cell_type": "code",
   "execution_count": null,
   "metadata": {},
   "outputs": [],
   "source": []
  }
 ],
 "metadata": {
  "kernelspec": {
   "display_name": "Python [conda env:wpm_matching_py373]",
   "language": "python",
   "name": "conda-env-wpm_matching_py373-py"
  },
  "language_info": {
   "codemirror_mode": {
    "name": "ipython",
    "version": 3
   },
   "file_extension": ".py",
   "mimetype": "text/x-python",
   "name": "python",
   "nbconvert_exporter": "python",
   "pygments_lexer": "ipython3",
   "version": "3.7.3"
  },
  "toc": {
   "base_numbering": 1,
   "nav_menu": {},
   "number_sections": true,
   "sideBar": true,
   "skip_h1_title": false,
   "title_cell": "Table of Contents",
   "title_sidebar": "Contents",
   "toc_cell": true,
   "toc_position": {},
   "toc_section_display": true,
   "toc_window_display": true
  }
 },
 "nbformat": 4,
 "nbformat_minor": 4
}
